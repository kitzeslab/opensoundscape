{
 "cells": [
  {
   "cell_type": "markdown",
   "metadata": {},
   "source": [
    "# Training with Opensoundscape & Pytorch Lightning\n",
    "\n",
    "OpenSoundscape provides classes that support the use of Pytorch Lightning's Trainer class, which implements various training techniques, speedups, and utilities. To use Lightning, simply use the `opensoundscape.ml.lightning.LightningSpectrogramModule` class rather than the `opensoundscape.ml.cnn.SpectrogramClassifier` class (or `CNN` class, which is now an alias for `SpectrogramClassifier`). For the most part, the API and functionality is similar to the pure-pytorch classes, with a few major differences:\n",
    "- to train, call the `.fit_with_trainer()` method (\"train()\" method is reserved for other purposes when using Lightning). Pass any kwargs to lightning.Trainer()to customize the Lightning Trainer. \n",
    "- to predict, call `.predict_with_trainer()`, passing any kwargs for the lightning.Trainer init with `lightning_trainer_kwargs=dict(...)`\n",
    "- note that with the Lightning Trainer, you can use various logging platforms, while only Weights and Biases is currently supported in the pure PyTorch classes\n",
    "\n",
    "Check out the lightning.Trainer [docs](https://lightning.ai/docs/pytorch/stable/common/trainer.html) for the full set of implemented features."
   ]
  },
  {
   "cell_type": "code",
   "execution_count": null,
   "metadata": {},
   "outputs": [],
   "source": [
    "# if this is a Google Colab notebook, install opensoundscape in the runtime environment\n",
    "if 'google.colab' in str(get_ipython()):\n",
    "  %pip install opensoundscape==0.12.0 ipykernel==5.5.6 ipython==7.34.0 pillow==9.4.0\n",
    "  num_workers=0\n",
    "else:\n",
    "  num_workers=4"
   ]
  },
  {
   "cell_type": "markdown",
   "metadata": {},
   "source": [
    "## Setup"
   ]
  },
  {
   "cell_type": "markdown",
   "metadata": {},
   "source": [
    "### Import needed packages"
   ]
  },
  {
   "cell_type": "code",
   "execution_count": 2,
   "metadata": {},
   "outputs": [],
   "source": [
    "# the cnn module provides classes for training/predicting with various types of CNNs\n",
    "from opensoundscape import CNN\n",
    "\n",
    "#other utilities and packages\n",
    "import torch\n",
    "import pandas as pd\n",
    "from pathlib import Path\n",
    "import numpy as np\n",
    "import pandas as pd\n",
    "import random \n",
    "import subprocess\n",
    "from glob import glob\n",
    "import sklearn\n",
    "\n",
    "#set up plotting\n",
    "from matplotlib import pyplot as plt\n",
    "plt.rcParams['figure.figsize']=[15,5] #for large visuals\n",
    "%config InlineBackend.figure_format = 'retina'"
   ]
  },
  {
   "cell_type": "markdown",
   "metadata": {},
   "source": [
    "### Set random seeds\n",
    "\n",
    "Set manual seeds for Pytorch and Python. These essentially \"fix\" the results of any stochastic steps in model training, ensuring that training results are reproducible. You probably don't want to do this when you actually train your model, but it's useful for debugging."
   ]
  },
  {
   "cell_type": "code",
   "execution_count": 3,
   "metadata": {},
   "outputs": [],
   "source": [
    "torch.manual_seed(0)\n",
    "random.seed(0)\n",
    "np.random.seed(0)"
   ]
  },
  {
   "cell_type": "markdown",
   "metadata": {},
   "source": [
    "### Download files\n",
    "\n",
    "Training a machine learning model requires some pre-labeled data. These data, in the form of audio recordings or spectrograms, are labeled with whether or not they contain the sound of the species of interest. \n",
    "\n",
    "These data can be obtained from online databases such as Xeno-Canto.org, or by labeling one's own ARU data using a program like Cornell's Raven sound analysis software. In this example we are using a set of annotated avian soundscape recordings that were annotated using the software Raven Pro 1.6.4 (Bioacoustics Research Program 2022):\n",
    "\n",
    "<blockquote><i>An annotated set of audio recordings of Eastern North American birds containing frequency, time, and species information. </i> Lauren M. Chronister,  Tessa A. Rhinehart,  Aidan Place,  Justin Kitzes.\n",
    "https://doi.org/10.1002/ecy.3329 \n",
    "</blockquote>\n",
    "\n",
    "These are the same data that are used by the annotation and preprocessing tutorials, so you can skip this step if you've already downloaded them there."
   ]
  },
  {
   "cell_type": "markdown",
   "metadata": {},
   "source": [
    "### Download example files\n",
    "Download a set of example audio files and Raven annotations:\n",
    "\n",
    "Option 1: run the cell below\n",
    "\n",
    "- if you get a 403 error, DataDryad suspects you are a bot. Use Option 2. \n",
    "\n",
    "Option 2:\n",
    "\n",
    "- Download and unzip both `annotation_Files.zip` and `mp3_Files.zip` from the https://datadryad.org/stash/dataset/doi:10.5061/dryad.d2547d81z  \n",
    "- Move the unzipped contents into a subfolder of the current folder called `./annotated_data/`"
   ]
  },
  {
   "cell_type": "code",
   "execution_count": 4,
   "metadata": {},
   "outputs": [],
   "source": [
    "# # Note: the \"!\" preceding each line below allows us to run bash commands in a Jupyter notebook\n",
    "# # If you are not running this code in a notebook, input these commands into your terminal instead\n",
    "# !wget -O annotation_Files.zip https://datadryad.org/stash/downloads/file_stream/641805;\n",
    "# !wget -O mp3_Files.zip https://datadryad.org/stash/downloads/file_stream/641807;\n",
    "# !mkdir annotated_data;\n",
    "# !unzip annotation_Files.zip -d ./annotated_data/annotation_Files;\n",
    "# !unzip mp3_Files.zip -d ./annotated_data/mp3_Files;"
   ]
  },
  {
   "cell_type": "markdown",
   "metadata": {},
   "source": [
    "## Prepare training and validation data\n",
    "\n",
    "To prepare audio data for machine learning, we need to convert our annotated data into clip-level labels.\n",
    "\n",
    "These steps are covered in depth in other tutorials, so we'll just set our clip labels up quickly for this example.\n",
    "\n",
    "First, get exactly matched lists of audio files and their corresponding selection files:"
   ]
  },
  {
   "cell_type": "code",
   "execution_count": null,
   "metadata": {},
   "outputs": [
    {
     "name": "stderr",
     "output_type": "stream",
     "text": [
      "/Users/SML161/opensoundscape/opensoundscape/annotations.py:300: FutureWarning: The behavior of DataFrame concatenation with empty or all-NA entries is deprecated. In a future version, this will no longer exclude empty or all-NA columns when determining the result dtypes. To retain the old behavior, exclude the relevant entries before the concat operation.\n",
      "  all_annotations_df = pd.concat(all_file_dfs).reset_index(drop=True)\n"
     ]
    }
   ],
   "source": [
    "# Set the current directory to where the dataset is downloaded\n",
    "dataset_path = Path(\"./annotated_data/\")\n",
    "\n",
    "# Make a list of all of the selection table files\n",
    "selection_files = glob(f\"{dataset_path}/annotation_Files/*/*.txt\")\n",
    "\n",
    "# Create a list of audio files, one corresponding to each Raven file\n",
    "# (Audio files have the same names as selection files with a different extension)\n",
    "audio_files = [\n",
    "    f.replace(\"annotation_Files\", \"mp3_Files\").replace(\n",
    "        \".Table.1.selections.txt\", \".mp3\"\n",
    "    )\n",
    "    for f in selection_files\n",
    "]\n",
    "\n",
    "# Next, convert the selection files and audio files to a `BoxedAnnotations` object, which contains\n",
    "# the time, frequency, and label information for all annotations for every recording in the dataset.\n",
    "\n",
    "from opensoundscape.annotations import BoxedAnnotations\n",
    "\n",
    "# Create a dataframe of annotations\n",
    "annotations = BoxedAnnotations.from_raven_files(\n",
    "    raven_files=selection_files, audio_files=audio_files, annotation_column=\"Species\"\n",
    ")\n",
    "\n",
    "\n",
    "# Parameters to use for label creation\n",
    "clip_duration = 3\n",
    "clip_overlap = 0\n",
    "min_label_overlap = 0.25\n",
    "species_of_interest = [\"NOCA\", \"EATO\", \"SCTA\", \"BAWW\", \"BCCH\", \"AMCR\", \"NOFL\"]\n",
    "\n",
    "# Create dataframe of one-hot labels\n",
    "clip_labels = annotations.clip_labels(\n",
    "    clip_duration=clip_duration,\n",
    "    clip_overlap=clip_overlap,\n",
    "    min_label_overlap=min_label_overlap,\n",
    "    class_subset=species_of_interest,  # You can comment this line out if you want to include all species.\n",
    ")\n",
    "\n",
    "from sklearn.model_selection import train_test_split\n",
    "\n",
    "train_df, val_df = train_test_split(clip_labels, test_size=0.2)"
   ]
  },
  {
   "cell_type": "markdown",
   "metadata": {},
   "source": [
    "### Create Lightning-copmatible model"
   ]
  },
  {
   "cell_type": "markdown",
   "metadata": {},
   "source": [
    "Now, create a LightningSpectrogramModule object, which integrates OpenSoundscape with Pytorch Lightning's powerful Trainer class"
   ]
  },
  {
   "cell_type": "code",
   "execution_count": null,
   "metadata": {},
   "outputs": [],
   "source": [
    "# Create a CNN object designed to recognize 3-second samples\n",
    "from opensoundscape.ml.lightning import LightningSpectrogramModule\n",
    "\n",
    "# initializing it looks the same as for the CNN class.\n",
    "# Let's use resnet34 architecture and 3s clip duration\n",
    "model = LightningSpectrogramModule(\n",
    "    architecture=\"resnet34\", classes=clip_labels.columns.tolist(), sample_duration=3\n",
    ")"
   ]
  },
  {
   "cell_type": "markdown",
   "metadata": {},
   "source": [
    "## Train with Lightning\n",
    "\n",
    "Lightning will take a bit of time to get things set up. After that, it can be substantially faster than training in pure PyTorch."
   ]
  },
  {
   "cell_type": "code",
   "execution_count": null,
   "metadata": {},
   "outputs": [
    {
     "name": "stderr",
     "output_type": "stream",
     "text": [
      "GPU available: True (mps), used: True\n",
      "TPU available: False, using: 0 TPU cores\n",
      "HPU available: False, using: 0 HPUs\n",
      "/Users/SML161/miniconda3/envs/opso_dev/lib/python3.9/site-packages/lightning/pytorch/trainer/connectors/logger_connector/logger_connector.py:75: Starting from v1.9.0, `tensorboardX` has been removed as a dependency of the `lightning.pytorch` package, due to potential conflicts with other packages in the ML ecosystem. For this reason, `logger=True` will use `CSVLogger` as the default logger, unless the `tensorboard` or `tensorboardX` packages are found. Please `pip install lightning[extra]` or one of them to enable TensorBoard support by default\n",
      "/Users/SML161/miniconda3/envs/opso_dev/lib/python3.9/site-packages/lightning/pytorch/callbacks/model_checkpoint.py:654: Checkpoint directory /Users/SML161/opensoundscape/docs/tutorials exists and is not empty.\n",
      "/Users/SML161/miniconda3/envs/opso_dev/lib/python3.9/site-packages/lightning/pytorch/core/optimizer.py:377: Found unsupported keys in the optimizer configuration: {'scheduler'}\n",
      "\n",
      "  | Name    | Type                  | Params | Mode \n",
      "----------------------------------------------------------\n",
      "0 | network | ResNet                | 21.3 M | train\n",
      "1 | loss_fn | BCEWithLogitsLoss_hot | 0      | train\n",
      "----------------------------------------------------------\n",
      "21.3 M    Trainable params\n",
      "0         Non-trainable params\n",
      "21.3 M    Total params\n",
      "85.128    Total estimated model params size (MB)\n",
      "117       Modules in train mode\n",
      "0         Modules in eval mode\n"
     ]
    },
    {
     "data": {
      "application/vnd.jupyter.widget-view+json": {
       "model_id": "3fcb2deddf7a49bdac24bcf873101c1d",
       "version_major": 2,
       "version_minor": 0
      },
      "text/plain": [
       "Sanity Checking: |          | 0/? [00:00<?, ?it/s]"
      ]
     },
     "metadata": {},
     "output_type": "display_data"
    },
    {
     "name": "stderr",
     "output_type": "stream",
     "text": [
      "/Users/SML161/miniconda3/envs/opso_dev/lib/python3.9/site-packages/lightning/pytorch/trainer/connectors/data_connector.py:419: Consider setting `persistent_workers=True` in 'val_dataloader' to speed up the dataloader worker initialization.\n",
      "/Users/SML161/miniconda3/envs/opso_dev/lib/python3.9/site-packages/torchmetrics/functional/classification/precision_recall_curve.py:798: UserWarning: MPS: nonzero op is supported natively starting from macOS 13.0. Falling back on CPU. This may have performance implications. (Triggered internally at /Users/runner/work/pytorch/pytorch/pytorch/aten/src/ATen/native/mps/operations/Indexing.mm:334.)\n",
      "  unique_mapping = unique_mapping[unique_mapping >= 0]\n",
      "/Users/SML161/miniconda3/envs/opso_dev/lib/python3.9/site-packages/torchmetrics/functional/classification/average_precision.py:308: UserWarning: MPS: no support for int64 for sum_out_mps, downcasting to a smaller data type (int32/float32). Native support for int64 has been added in macOS 13.3. (Triggered internally at /Users/runner/work/pytorch/pytorch/pytorch/aten/src/ATen/native/mps/operations/ReduceOps.mm:157.)\n",
      "  weights=(state[1] == 1).sum(dim=0).float() if thresholds is None else state[0][:, 1, :].sum(-1),\n",
      "/Users/SML161/miniconda3/envs/opso_dev/lib/python3.9/site-packages/lightning/pytorch/trainer/connectors/data_connector.py:419: Consider setting `persistent_workers=True` in 'train_dataloader' to speed up the dataloader worker initialization.\n"
     ]
    },
    {
     "data": {
      "application/vnd.jupyter.widget-view+json": {
       "model_id": "1aa762c4cb074f8db39be0cce5a3579b",
       "version_major": 2,
       "version_minor": 0
      },
      "text/plain": [
       "Training: |          | 0/? [00:00<?, ?it/s]"
      ]
     },
     "metadata": {},
     "output_type": "display_data"
    },
    {
     "data": {
      "application/vnd.jupyter.widget-view+json": {
       "model_id": "38438d1dcb6d49c1a86c5a610edf306b",
       "version_major": 2,
       "version_minor": 0
      },
      "text/plain": [
       "Validation: |          | 0/? [00:00<?, ?it/s]"
      ]
     },
     "metadata": {},
     "output_type": "display_data"
    },
    {
     "data": {
      "application/vnd.jupyter.widget-view+json": {
       "model_id": "377c2e3d802a4ff6bb9c0a014c5c724c",
       "version_major": 2,
       "version_minor": 0
      },
      "text/plain": [
       "Validation: |          | 0/? [00:00<?, ?it/s]"
      ]
     },
     "metadata": {},
     "output_type": "display_data"
    },
    {
     "data": {
      "application/vnd.jupyter.widget-view+json": {
       "model_id": "e114210a375c43bc8bdefc9eb5f310ec",
       "version_major": 2,
       "version_minor": 0
      },
      "text/plain": [
       "Validation: |          | 0/? [00:00<?, ?it/s]"
      ]
     },
     "metadata": {},
     "output_type": "display_data"
    },
    {
     "data": {
      "application/vnd.jupyter.widget-view+json": {
       "model_id": "a7c72b7dda2b46c4ac5cf91998eae4de",
       "version_major": 2,
       "version_minor": 0
      },
      "text/plain": [
       "Validation: |          | 0/? [00:00<?, ?it/s]"
      ]
     },
     "metadata": {},
     "output_type": "display_data"
    },
    {
     "name": "stderr",
     "output_type": "stream",
     "text": [
      "`Trainer.fit` stopped: `max_epochs=4` reached.\n"
     ]
    },
    {
     "name": "stdout",
     "output_type": "stream",
     "text": [
      "Training complete\n",
      "Best model with score 0.181 is saved to /Users/SML161/opensoundscape/docs/tutorials/epoch=3-step=388.ckpt\n",
      "0 of 6160 total training samples failed to preprocess\n"
     ]
    },
    {
     "data": {
      "text/plain": [
       "<lightning.pytorch.trainer.trainer.Trainer at 0x2bf6e5490>"
      ]
     },
     "execution_count": 8,
     "metadata": {},
     "output_type": "execute_result"
    }
   ],
   "source": [
    "# again, the API is very similar to CNN\n",
    "# but now, we can pass any kwargs to Lightning.Trainer() as well. For example,\n",
    "# let's use the `accum_grad_batches` argument to accumulate gradients over 2 batches before running the optimizer,\n",
    "# effectively doubling the batch size.\n",
    "model.fit_with_trainer(\n",
    "    train_df,\n",
    "    val_df,\n",
    "    epochs=4,\n",
    "    batch_size=32,\n",
    "    num_workers=num_workers,\n",
    "    accumulate_grad_batches=2,\n",
    ")"
   ]
  },
  {
   "cell_type": "markdown",
   "metadata": {},
   "source": [
    "## run inference"
   ]
  },
  {
   "cell_type": "code",
   "execution_count": 9,
   "metadata": {},
   "outputs": [
    {
     "name": "stderr",
     "output_type": "stream",
     "text": [
      "GPU available: True (mps), used: True\n",
      "TPU available: False, using: 0 TPU cores\n",
      "HPU available: False, using: 0 HPUs\n",
      "/Users/SML161/miniconda3/envs/opso_dev/lib/python3.9/site-packages/lightning/pytorch/trainer/connectors/data_connector.py:419: Consider setting `persistent_workers=True` in 'predict_dataloader' to speed up the dataloader worker initialization.\n"
     ]
    },
    {
     "data": {
      "application/vnd.jupyter.widget-view+json": {
       "model_id": "ea727f7bbc664f7c95a9f309934424b5",
       "version_major": 2,
       "version_minor": 0
      },
      "text/plain": [
       "Predicting: |          | 0/? [00:00<?, ?it/s]"
      ]
     },
     "metadata": {},
     "output_type": "display_data"
    },
    {
     "data": {
      "text/html": [
       "<div>\n",
       "<style scoped>\n",
       "    .dataframe tbody tr th:only-of-type {\n",
       "        vertical-align: middle;\n",
       "    }\n",
       "\n",
       "    .dataframe tbody tr th {\n",
       "        vertical-align: top;\n",
       "    }\n",
       "\n",
       "    .dataframe thead th {\n",
       "        text-align: right;\n",
       "    }\n",
       "</style>\n",
       "<table border=\"1\" class=\"dataframe\">\n",
       "  <thead>\n",
       "    <tr style=\"text-align: right;\">\n",
       "      <th></th>\n",
       "      <th></th>\n",
       "      <th></th>\n",
       "      <th>NOCA</th>\n",
       "      <th>EATO</th>\n",
       "      <th>SCTA</th>\n",
       "      <th>BAWW</th>\n",
       "      <th>BCCH</th>\n",
       "      <th>AMCR</th>\n",
       "      <th>NOFL</th>\n",
       "    </tr>\n",
       "    <tr>\n",
       "      <th>file</th>\n",
       "      <th>start_time</th>\n",
       "      <th>end_time</th>\n",
       "      <th></th>\n",
       "      <th></th>\n",
       "      <th></th>\n",
       "      <th></th>\n",
       "      <th></th>\n",
       "      <th></th>\n",
       "      <th></th>\n",
       "    </tr>\n",
       "  </thead>\n",
       "  <tbody>\n",
       "    <tr>\n",
       "      <th>annotated_data/mp3_Files/Recording_1/Recording_1_Segment_26.mp3</th>\n",
       "      <th>123.0</th>\n",
       "      <th>126.0</th>\n",
       "      <td>-1.150377</td>\n",
       "      <td>0.549135</td>\n",
       "      <td>-2.138953</td>\n",
       "      <td>-2.694704</td>\n",
       "      <td>-0.467310</td>\n",
       "      <td>4.545997</td>\n",
       "      <td>-4.263886</td>\n",
       "    </tr>\n",
       "    <tr>\n",
       "      <th>annotated_data/mp3_Files/Recording_2/Recording_2_Segment_11.mp3</th>\n",
       "      <th>132.0</th>\n",
       "      <th>135.0</th>\n",
       "      <td>-1.627193</td>\n",
       "      <td>-2.231425</td>\n",
       "      <td>-0.292491</td>\n",
       "      <td>-3.995329</td>\n",
       "      <td>-2.961541</td>\n",
       "      <td>4.214307</td>\n",
       "      <td>-4.755819</td>\n",
       "    </tr>\n",
       "    <tr>\n",
       "      <th>annotated_data/mp3_Files/Recording_4/Recording_4_Segment_23.mp3</th>\n",
       "      <th>138.0</th>\n",
       "      <th>141.0</th>\n",
       "      <td>3.111156</td>\n",
       "      <td>1.366953</td>\n",
       "      <td>-3.114839</td>\n",
       "      <td>-4.208912</td>\n",
       "      <td>-2.098067</td>\n",
       "      <td>-3.920546</td>\n",
       "      <td>-4.175481</td>\n",
       "    </tr>\n",
       "    <tr>\n",
       "      <th>annotated_data/mp3_Files/Recording_4/Recording_4_Segment_06.mp3</th>\n",
       "      <th>18.0</th>\n",
       "      <th>21.0</th>\n",
       "      <td>3.195024</td>\n",
       "      <td>6.508092</td>\n",
       "      <td>-6.060542</td>\n",
       "      <td>-5.502892</td>\n",
       "      <td>-3.900456</td>\n",
       "      <td>-3.240862</td>\n",
       "      <td>-5.377626</td>\n",
       "    </tr>\n",
       "    <tr>\n",
       "      <th>annotated_data/mp3_Files/Recording_1/Recording_1_Segment_02.mp3</th>\n",
       "      <th>36.0</th>\n",
       "      <th>39.0</th>\n",
       "      <td>-5.511728</td>\n",
       "      <td>-3.187492</td>\n",
       "      <td>-6.659735</td>\n",
       "      <td>-6.191207</td>\n",
       "      <td>-6.031331</td>\n",
       "      <td>-5.297669</td>\n",
       "      <td>-6.563343</td>\n",
       "    </tr>\n",
       "    <tr>\n",
       "      <th>...</th>\n",
       "      <th>...</th>\n",
       "      <th>...</th>\n",
       "      <td>...</td>\n",
       "      <td>...</td>\n",
       "      <td>...</td>\n",
       "      <td>...</td>\n",
       "      <td>...</td>\n",
       "      <td>...</td>\n",
       "      <td>...</td>\n",
       "    </tr>\n",
       "    <tr>\n",
       "      <th>annotated_data/mp3_Files/Recording_4/Recording_4_Segment_05.mp3</th>\n",
       "      <th>267.0</th>\n",
       "      <th>270.0</th>\n",
       "      <td>5.829832</td>\n",
       "      <td>2.170767</td>\n",
       "      <td>-3.095157</td>\n",
       "      <td>-4.235296</td>\n",
       "      <td>-3.209671</td>\n",
       "      <td>-1.694019</td>\n",
       "      <td>-3.902274</td>\n",
       "    </tr>\n",
       "    <tr>\n",
       "      <th>annotated_data/mp3_Files/Recording_4/Recording_4_Segment_21.mp3</th>\n",
       "      <th>141.0</th>\n",
       "      <th>144.0</th>\n",
       "      <td>6.042611</td>\n",
       "      <td>3.894333</td>\n",
       "      <td>-3.956448</td>\n",
       "      <td>-4.595656</td>\n",
       "      <td>-2.281978</td>\n",
       "      <td>-2.939838</td>\n",
       "      <td>-4.280013</td>\n",
       "    </tr>\n",
       "    <tr>\n",
       "      <th>annotated_data/mp3_Files/Recording_1/Recording_1_Segment_23.mp3</th>\n",
       "      <th>183.0</th>\n",
       "      <th>186.0</th>\n",
       "      <td>-3.594249</td>\n",
       "      <td>-1.777073</td>\n",
       "      <td>-5.218874</td>\n",
       "      <td>-4.250111</td>\n",
       "      <td>-2.707364</td>\n",
       "      <td>-4.353728</td>\n",
       "      <td>-5.437796</td>\n",
       "    </tr>\n",
       "    <tr>\n",
       "      <th>annotated_data/mp3_Files/Recording_1/Recording_1_Segment_25.mp3</th>\n",
       "      <th>144.0</th>\n",
       "      <th>147.0</th>\n",
       "      <td>-3.061894</td>\n",
       "      <td>-0.626145</td>\n",
       "      <td>-4.435275</td>\n",
       "      <td>-2.705727</td>\n",
       "      <td>0.509345</td>\n",
       "      <td>7.063011</td>\n",
       "      <td>-5.337906</td>\n",
       "    </tr>\n",
       "    <tr>\n",
       "      <th>annotated_data/mp3_Files/Recording_2/Recording_2_Segment_14.mp3</th>\n",
       "      <th>159.0</th>\n",
       "      <th>162.0</th>\n",
       "      <td>-2.488947</td>\n",
       "      <td>-0.996913</td>\n",
       "      <td>-0.150189</td>\n",
       "      <td>-3.829111</td>\n",
       "      <td>-3.008179</td>\n",
       "      <td>4.803464</td>\n",
       "      <td>-3.589157</td>\n",
       "    </tr>\n",
       "  </tbody>\n",
       "</table>\n",
       "<p>1540 rows × 7 columns</p>\n",
       "</div>"
      ],
      "text/plain": [
       "                                                                            NOCA  \\\n",
       "file                                               start_time end_time             \n",
       "annotated_data/mp3_Files/Recording_1/Recording_... 123.0      126.0    -1.150377   \n",
       "annotated_data/mp3_Files/Recording_2/Recording_... 132.0      135.0    -1.627193   \n",
       "annotated_data/mp3_Files/Recording_4/Recording_... 138.0      141.0     3.111156   \n",
       "annotated_data/mp3_Files/Recording_4/Recording_... 18.0       21.0      3.195024   \n",
       "annotated_data/mp3_Files/Recording_1/Recording_... 36.0       39.0     -5.511728   \n",
       "...                                                                          ...   \n",
       "annotated_data/mp3_Files/Recording_4/Recording_... 267.0      270.0     5.829832   \n",
       "annotated_data/mp3_Files/Recording_4/Recording_... 141.0      144.0     6.042611   \n",
       "annotated_data/mp3_Files/Recording_1/Recording_... 183.0      186.0    -3.594249   \n",
       "annotated_data/mp3_Files/Recording_1/Recording_... 144.0      147.0    -3.061894   \n",
       "annotated_data/mp3_Files/Recording_2/Recording_... 159.0      162.0    -2.488947   \n",
       "\n",
       "                                                                            EATO  \\\n",
       "file                                               start_time end_time             \n",
       "annotated_data/mp3_Files/Recording_1/Recording_... 123.0      126.0     0.549135   \n",
       "annotated_data/mp3_Files/Recording_2/Recording_... 132.0      135.0    -2.231425   \n",
       "annotated_data/mp3_Files/Recording_4/Recording_... 138.0      141.0     1.366953   \n",
       "annotated_data/mp3_Files/Recording_4/Recording_... 18.0       21.0      6.508092   \n",
       "annotated_data/mp3_Files/Recording_1/Recording_... 36.0       39.0     -3.187492   \n",
       "...                                                                          ...   \n",
       "annotated_data/mp3_Files/Recording_4/Recording_... 267.0      270.0     2.170767   \n",
       "annotated_data/mp3_Files/Recording_4/Recording_... 141.0      144.0     3.894333   \n",
       "annotated_data/mp3_Files/Recording_1/Recording_... 183.0      186.0    -1.777073   \n",
       "annotated_data/mp3_Files/Recording_1/Recording_... 144.0      147.0    -0.626145   \n",
       "annotated_data/mp3_Files/Recording_2/Recording_... 159.0      162.0    -0.996913   \n",
       "\n",
       "                                                                            SCTA  \\\n",
       "file                                               start_time end_time             \n",
       "annotated_data/mp3_Files/Recording_1/Recording_... 123.0      126.0    -2.138953   \n",
       "annotated_data/mp3_Files/Recording_2/Recording_... 132.0      135.0    -0.292491   \n",
       "annotated_data/mp3_Files/Recording_4/Recording_... 138.0      141.0    -3.114839   \n",
       "annotated_data/mp3_Files/Recording_4/Recording_... 18.0       21.0     -6.060542   \n",
       "annotated_data/mp3_Files/Recording_1/Recording_... 36.0       39.0     -6.659735   \n",
       "...                                                                          ...   \n",
       "annotated_data/mp3_Files/Recording_4/Recording_... 267.0      270.0    -3.095157   \n",
       "annotated_data/mp3_Files/Recording_4/Recording_... 141.0      144.0    -3.956448   \n",
       "annotated_data/mp3_Files/Recording_1/Recording_... 183.0      186.0    -5.218874   \n",
       "annotated_data/mp3_Files/Recording_1/Recording_... 144.0      147.0    -4.435275   \n",
       "annotated_data/mp3_Files/Recording_2/Recording_... 159.0      162.0    -0.150189   \n",
       "\n",
       "                                                                            BAWW  \\\n",
       "file                                               start_time end_time             \n",
       "annotated_data/mp3_Files/Recording_1/Recording_... 123.0      126.0    -2.694704   \n",
       "annotated_data/mp3_Files/Recording_2/Recording_... 132.0      135.0    -3.995329   \n",
       "annotated_data/mp3_Files/Recording_4/Recording_... 138.0      141.0    -4.208912   \n",
       "annotated_data/mp3_Files/Recording_4/Recording_... 18.0       21.0     -5.502892   \n",
       "annotated_data/mp3_Files/Recording_1/Recording_... 36.0       39.0     -6.191207   \n",
       "...                                                                          ...   \n",
       "annotated_data/mp3_Files/Recording_4/Recording_... 267.0      270.0    -4.235296   \n",
       "annotated_data/mp3_Files/Recording_4/Recording_... 141.0      144.0    -4.595656   \n",
       "annotated_data/mp3_Files/Recording_1/Recording_... 183.0      186.0    -4.250111   \n",
       "annotated_data/mp3_Files/Recording_1/Recording_... 144.0      147.0    -2.705727   \n",
       "annotated_data/mp3_Files/Recording_2/Recording_... 159.0      162.0    -3.829111   \n",
       "\n",
       "                                                                            BCCH  \\\n",
       "file                                               start_time end_time             \n",
       "annotated_data/mp3_Files/Recording_1/Recording_... 123.0      126.0    -0.467310   \n",
       "annotated_data/mp3_Files/Recording_2/Recording_... 132.0      135.0    -2.961541   \n",
       "annotated_data/mp3_Files/Recording_4/Recording_... 138.0      141.0    -2.098067   \n",
       "annotated_data/mp3_Files/Recording_4/Recording_... 18.0       21.0     -3.900456   \n",
       "annotated_data/mp3_Files/Recording_1/Recording_... 36.0       39.0     -6.031331   \n",
       "...                                                                          ...   \n",
       "annotated_data/mp3_Files/Recording_4/Recording_... 267.0      270.0    -3.209671   \n",
       "annotated_data/mp3_Files/Recording_4/Recording_... 141.0      144.0    -2.281978   \n",
       "annotated_data/mp3_Files/Recording_1/Recording_... 183.0      186.0    -2.707364   \n",
       "annotated_data/mp3_Files/Recording_1/Recording_... 144.0      147.0     0.509345   \n",
       "annotated_data/mp3_Files/Recording_2/Recording_... 159.0      162.0    -3.008179   \n",
       "\n",
       "                                                                            AMCR  \\\n",
       "file                                               start_time end_time             \n",
       "annotated_data/mp3_Files/Recording_1/Recording_... 123.0      126.0     4.545997   \n",
       "annotated_data/mp3_Files/Recording_2/Recording_... 132.0      135.0     4.214307   \n",
       "annotated_data/mp3_Files/Recording_4/Recording_... 138.0      141.0    -3.920546   \n",
       "annotated_data/mp3_Files/Recording_4/Recording_... 18.0       21.0     -3.240862   \n",
       "annotated_data/mp3_Files/Recording_1/Recording_... 36.0       39.0     -5.297669   \n",
       "...                                                                          ...   \n",
       "annotated_data/mp3_Files/Recording_4/Recording_... 267.0      270.0    -1.694019   \n",
       "annotated_data/mp3_Files/Recording_4/Recording_... 141.0      144.0    -2.939838   \n",
       "annotated_data/mp3_Files/Recording_1/Recording_... 183.0      186.0    -4.353728   \n",
       "annotated_data/mp3_Files/Recording_1/Recording_... 144.0      147.0     7.063011   \n",
       "annotated_data/mp3_Files/Recording_2/Recording_... 159.0      162.0     4.803464   \n",
       "\n",
       "                                                                            NOFL  \n",
       "file                                               start_time end_time            \n",
       "annotated_data/mp3_Files/Recording_1/Recording_... 123.0      126.0    -4.263886  \n",
       "annotated_data/mp3_Files/Recording_2/Recording_... 132.0      135.0    -4.755819  \n",
       "annotated_data/mp3_Files/Recording_4/Recording_... 138.0      141.0    -4.175481  \n",
       "annotated_data/mp3_Files/Recording_4/Recording_... 18.0       21.0     -5.377626  \n",
       "annotated_data/mp3_Files/Recording_1/Recording_... 36.0       39.0     -6.563343  \n",
       "...                                                                          ...  \n",
       "annotated_data/mp3_Files/Recording_4/Recording_... 267.0      270.0    -3.902274  \n",
       "annotated_data/mp3_Files/Recording_4/Recording_... 141.0      144.0    -4.280013  \n",
       "annotated_data/mp3_Files/Recording_1/Recording_... 183.0      186.0    -5.437796  \n",
       "annotated_data/mp3_Files/Recording_1/Recording_... 144.0      147.0    -5.337906  \n",
       "annotated_data/mp3_Files/Recording_2/Recording_... 159.0      162.0    -3.589157  \n",
       "\n",
       "[1540 rows x 7 columns]"
      ]
     },
     "execution_count": 9,
     "metadata": {},
     "output_type": "execute_result"
    }
   ],
   "source": [
    "model.predict_with_trainer(val_df, batch_size=32, num_workers=num_workers)"
   ]
  },
  {
   "cell_type": "markdown",
   "metadata": {},
   "source": [
    "## Next steps: \n",
    "experiment with the various optimizations and features of lightning.Trainer, such as integration with several different logging platforms, multi-device distributed training, and more. \n",
    "\n",
    "Check out the Lightning Trainer [docs](https://lightning.ai/docs/pytorch/stable/common/trainer.html) to learn more. "
   ]
  },
  {
   "cell_type": "markdown",
   "metadata": {},
   "source": [
    "## clean up"
   ]
  },
  {
   "cell_type": "code",
   "execution_count": null,
   "metadata": {},
   "outputs": [],
   "source": [
    "import shutil\n",
    "\n",
    "# uncomment to remove the training files\n",
    "# shutil.rmtree('./annotated_data')\n",
    "\n",
    "shutil.rmtree(\"./wandb\", ignore_errors=True)\n",
    "shutil.rmtree(\"./model_training_checkpoints\", ignore_errors=True)\n",
    "for f in glob(\"./*.ckpt\"):\n",
    "    Path(f).unlink()\n",
    "\n",
    "try:\n",
    "    Path(\"annotation_Files.zip\").unlink()\n",
    "except:\n",
    "    pass\n",
    "try:\n",
    "    Path(\"mp3_Files.zip\").unlink()\n",
    "except:\n",
    "    pass"
   ]
  }
 ],
 "metadata": {
  "kernelspec": {
   "display_name": "opso_dev",
   "language": "python",
   "name": "opso_dev"
  },
  "language_info": {
   "codemirror_mode": {
    "name": "ipython",
    "version": 3
   },
   "file_extension": ".py",
   "mimetype": "text/x-python",
   "name": "python",
   "nbconvert_exporter": "python",
   "pygments_lexer": "ipython3",
   "version": "3.9.13"
  }
 },
 "nbformat": 4,
 "nbformat_minor": 2
}
