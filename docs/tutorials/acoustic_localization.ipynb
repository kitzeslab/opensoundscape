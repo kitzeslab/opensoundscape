{
 "cells": [
  {
   "cell_type": "markdown",
   "metadata": {},
   "source": [
    "# Acoustic localization\n",
    "\n",
    "Acoustic localization is a method for identifying the location of a sound-source, based on the time delays of arrival (TDOAs) between multiple time-synchronized audio recordings. This notebook outlines how you can use Opensoundscape's localization module to for acoustic localization. There are multiple steps involved in using an array of audio receivers to identify sound source locations. These include: \n",
    "\n",
    "1. Deploying time-synchronizable recording devices at static, known locations. \n",
    "2. Synchronizing recordings. \n",
    "3. Labeling the detections of your sound of interest in the audio. \n",
    "4. Estimating the time delays of arrival (TDOAs) of the sound of interest between multiple microphones.\n",
    "5. Localizing the sound source from TDOAs.\n",
    "6. Assessing the confidence of these localizations.\n",
    "\n",
    "This notebook will focus mostly on steps 3 onwards, as the details of steps 1 and 2 depend on your choice of hardware.\n",
    "\n",
    "## Run this tutorial\n",
    "\n",
    "This tutorial is more than a reference! It's a Jupyter Notebook which you can run and modify on Google Colab or your own computer.\n",
    "\n",
    "|Link to tutorial|How to run tutorial|\n",
    "| :- | :- |\n",
    "| [![Open In Colab](https://colab.research.google.com/assets/colab-badge.svg)](https://colab.research.google.com/github/kitzeslab/opensoundscape/blob/master/docs/tutorials/acoustic_localization.ipynb) | The link opens the tutorial in Google Colab. Uncomment the \"installation\" line in the first cell to install OpenSoundscape. |\n",
    "| [![Download via DownGit](https://img.shields.io/badge/GitHub-Download-teal?logo=github)](https://minhaskamal.github.io/DownGit/#/home?url=https://github.com/kitzeslab/opensoundscape/blob/master/docs/tutorials/acoustic_localization.ipynb) | The link downloads the tutorial file to your computer. Follow the [Jupyter installation instructions](https://opensoundscape.org/en/latest/installation/jupyter.html), then open the tutorial file in Jupyter. |"
   ]
  },
  {
   "cell_type": "code",
   "execution_count": 1,
   "metadata": {},
   "outputs": [],
   "source": [
    "# if this is a Google Colab notebook, install opensoundscape in the runtime environment\n",
    "if 'google.colab' in str(get_ipython()):\n",
    "  %pip install opensoundscape"
   ]
  },
  {
   "cell_type": "markdown",
   "metadata": {},
   "source": [
    "## Setup"
   ]
  },
  {
   "cell_type": "markdown",
   "metadata": {},
   "source": [
    "### Import packages"
   ]
  },
  {
   "cell_type": "code",
   "execution_count": 2,
   "metadata": {},
   "outputs": [
    {
     "name": "stderr",
     "output_type": "stream",
     "text": [
      "/Users/SML161/opensoundscape/opensoundscape/ml/cnn.py:18: TqdmExperimentalWarning: Using `tqdm.autonotebook.tqdm` in notebook mode. Use `tqdm.tqdm` instead to force console mode (e.g. in jupyter console)\n",
      "  from tqdm.autonotebook import tqdm\n"
     ]
    }
   ],
   "source": [
    "# import the packages we'll use\n",
    "import opensoundscape\n",
    "import pandas as pd\n",
    "import numpy as np\n",
    "import matplotlib.pyplot as plt"
   ]
  },
  {
   "cell_type": "markdown",
   "metadata": {},
   "source": [
    "### Download example files\n",
    "We're going to download the example files. These consist of:\n",
    "\n",
    "`aru_coords.csv` : A csv of the coordinate positions of our receivers. The coordinate positions should be in UTM (meters).\n",
    "\n",
    "`detections.csv`: A csv, containing the detections of our species of interest on each receiver. This could be made with manual listening effort, or using an automated detection method like a CNN.\n",
    "\n",
    "`audio_files`: A set of 9 time-synchronized audio files, corresponding to each receiver."
   ]
  },
  {
   "cell_type": "code",
   "execution_count": 3,
   "metadata": {},
   "outputs": [
    {
     "name": "stderr",
     "output_type": "stream",
     "text": [
      "  % Total    % Received % Xferd  Average Speed   Time    Time     Time  Current\n",
      "                                 Dload  Upload   Total   Spent    Left  Speed\n",
      "  0     0    0     0    0     0      0      0 --:--:--  0:00:06 --:--:--     0\n",
      "100 49.4M  100 49.4M    0     0  4134k      0  0:00:12  0:00:12 --:--:-- 9546k\n"
     ]
    },
    {
     "data": {
      "text/plain": [
       "CompletedProcess(args=['rm', 'localization_files.tar'], returncode=0)"
      ]
     },
     "execution_count": 3,
     "metadata": {},
     "output_type": "execute_result"
    }
   ],
   "source": [
    "# Download and unzip the files\n",
    "import subprocess\n",
    "subprocess.run(['curl', 'https://drive.google.com/uc?export=download&id=1M4yKM8obqiY0FU2qEriINBDSWtQGqN8E', '-L', '-o','localization_files.tar'])\n",
    "subprocess.run([\"tar\",\"-xzf\", \"localization_files.tar\"]) # Unzip the downloaded tar file\n",
    "subprocess.run([\"rm\", \"localization_files.tar\"]) # Remove the file after its contents are unzipped"
   ]
  },
  {
   "cell_type": "markdown",
   "metadata": {},
   "source": [
    "## Read in receiver coordinates\n",
    "\n",
    "Our pipeline begins with a set of time-synchronized audio files, 1 from each receiver (ARU). For each audio file, we know the position of each receiver, measured in meters. These were measured using UTM originally, then the coordinates of R1 were subtracted from all of the points for readability and numerical stability. \n",
    "\n",
    "We use this information to initialize a `SynchronizedRecorderArray` object."
   ]
  },
  {
   "cell_type": "code",
   "execution_count": 4,
   "metadata": {},
   "outputs": [
    {
     "data": {
      "text/html": [
       "<div>\n",
       "<style scoped>\n",
       "    .dataframe tbody tr th:only-of-type {\n",
       "        vertical-align: middle;\n",
       "    }\n",
       "\n",
       "    .dataframe tbody tr th {\n",
       "        vertical-align: top;\n",
       "    }\n",
       "\n",
       "    .dataframe thead th {\n",
       "        text-align: right;\n",
       "    }\n",
       "</style>\n",
       "<table border=\"1\" class=\"dataframe\">\n",
       "  <thead>\n",
       "    <tr style=\"text-align: right;\">\n",
       "      <th></th>\n",
       "      <th>x</th>\n",
       "      <th>y</th>\n",
       "    </tr>\n",
       "  </thead>\n",
       "  <tbody>\n",
       "    <tr>\n",
       "      <th>R2_M11-1459_MSD-1657_20220207_191236_callibrated.WAV</th>\n",
       "      <td>-8.691</td>\n",
       "      <td>49.248</td>\n",
       "    </tr>\n",
       "    <tr>\n",
       "      <th>R1_M11-1453_MSD-1631_20220207_191138_callibrated.WAV</th>\n",
       "      <td>0.000</td>\n",
       "      <td>0.000</td>\n",
       "    </tr>\n",
       "    <tr>\n",
       "      <th>R4_MSD-1460_MSD-1655_20220207_191507_callibrated.WAV</th>\n",
       "      <td>-49.091</td>\n",
       "      <td>-9.084</td>\n",
       "    </tr>\n",
       "    <tr>\n",
       "      <th>R3_M11-1458_MSD-1658_20220207_191311_callibrated.WAV</th>\n",
       "      <td>-17.378</td>\n",
       "      <td>97.841</td>\n",
       "    </tr>\n",
       "    <tr>\n",
       "      <th>R8_MSD-1462_MSD-1654_20220207_191937_callibrated.WAV</th>\n",
       "      <td>-106.713</td>\n",
       "      <td>30.032</td>\n",
       "    </tr>\n",
       "    <tr>\n",
       "      <th>R7_M11-1461_MSD-1653_20220207_190748_callibrated.WAV</th>\n",
       "      <td>-98.034</td>\n",
       "      <td>-17.583</td>\n",
       "    </tr>\n",
       "    <tr>\n",
       "      <th>R6_M11-1463_MSD-1656_20220207_191417_callibrated.WAV</th>\n",
       "      <td>-66.875</td>\n",
       "      <td>88.761</td>\n",
       "    </tr>\n",
       "    <tr>\n",
       "      <th>R9_M11-1457_MSD-1650_20220207_194242_callibrated.WAV</th>\n",
       "      <td>-115.833</td>\n",
       "      <td>79.203</td>\n",
       "    </tr>\n",
       "    <tr>\n",
       "      <th>R5_M11-1464_MSD-1651_20220207_191552_callibrated.WAV</th>\n",
       "      <td>-58.316</td>\n",
       "      <td>39.718</td>\n",
       "    </tr>\n",
       "  </tbody>\n",
       "</table>\n",
       "</div>"
      ],
      "text/plain": [
       "                                                          x       y\n",
       "R2_M11-1459_MSD-1657_20220207_191236_callibrate...   -8.691  49.248\n",
       "R1_M11-1453_MSD-1631_20220207_191138_callibrate...    0.000   0.000\n",
       "R4_MSD-1460_MSD-1655_20220207_191507_callibrate...  -49.091  -9.084\n",
       "R3_M11-1458_MSD-1658_20220207_191311_callibrate...  -17.378  97.841\n",
       "R8_MSD-1462_MSD-1654_20220207_191937_callibrate... -106.713  30.032\n",
       "R7_M11-1461_MSD-1653_20220207_190748_callibrate...  -98.034 -17.583\n",
       "R6_M11-1463_MSD-1656_20220207_191417_callibrate...  -66.875  88.761\n",
       "R9_M11-1457_MSD-1650_20220207_194242_callibrate... -115.833  79.203\n",
       "R5_M11-1464_MSD-1651_20220207_191552_callibrate...  -58.316  39.718"
      ]
     },
     "execution_count": 4,
     "metadata": {},
     "output_type": "execute_result"
    }
   ],
   "source": [
    "aru_coords = pd.read_csv('aru_coords.csv', index_col=0) # a dataframe wih index \"/path/to/audio/file\" and columns \"x\" and \"y\" coordinates of the ARU\n",
    "aru_coords"
   ]
  },
  {
   "cell_type": "code",
   "execution_count": 5,
   "metadata": {},
   "outputs": [],
   "source": [
    "# initialize a SynchronizedRecorderArray with the ARU coordinates\n",
    "from opensoundscape.localization import SynchronizedRecorderArray\n",
    "array = SynchronizedRecorderArray(aru_coords)"
   ]
  },
  {
   "cell_type": "markdown",
   "metadata": {},
   "source": [
    "The SynchronizedRecorderArray object we've created will now be used to localize a set of 'detections'. These are in the file `detections.csv`. They are a set of binary detections for every receiver in the array. For each time-window (in our case we used 3 second time-windows), every receiver either contains (1) or does not contain (0) our sounds of interest. These detections could be generated by using an automated classifier, like a CNN or RIBBIT (see our other tutorials for more information), or by manual listening. It's fine if multiple species are detected in the same time-window, on the same receiver. Though you should be aware that the busier the soundscape, the harder it will be for acoustic localization."
   ]
  },
  {
   "cell_type": "code",
   "execution_count": 6,
   "metadata": {},
   "outputs": [
    {
     "data": {
      "text/html": [
       "<div>\n",
       "<style scoped>\n",
       "    .dataframe tbody tr th:only-of-type {\n",
       "        vertical-align: middle;\n",
       "    }\n",
       "\n",
       "    .dataframe tbody tr th {\n",
       "        vertical-align: top;\n",
       "    }\n",
       "\n",
       "    .dataframe thead th {\n",
       "        text-align: right;\n",
       "    }\n",
       "</style>\n",
       "<table border=\"1\" class=\"dataframe\">\n",
       "  <thead>\n",
       "    <tr style=\"text-align: right;\">\n",
       "      <th></th>\n",
       "      <th></th>\n",
       "      <th></th>\n",
       "      <th>Black-throatedBlueWarbler</th>\n",
       "      <th>ScarletTanager</th>\n",
       "      <th>Black-throatedGreenWarbler</th>\n",
       "      <th>Black-and-whiteWarbler</th>\n",
       "      <th>AcadianFlycatcher</th>\n",
       "    </tr>\n",
       "    <tr>\n",
       "      <th>file</th>\n",
       "      <th>start_time</th>\n",
       "      <th>end_time</th>\n",
       "      <th></th>\n",
       "      <th></th>\n",
       "      <th></th>\n",
       "      <th></th>\n",
       "      <th></th>\n",
       "    </tr>\n",
       "  </thead>\n",
       "  <tbody>\n",
       "    <tr>\n",
       "      <th rowspan=\"5\" valign=\"top\">R2_M11-1459_MSD-1657_20220207_191236_callibrated.WAV</th>\n",
       "      <th>0.0</th>\n",
       "      <th>3.0</th>\n",
       "      <td>0.0</td>\n",
       "      <td>0.0</td>\n",
       "      <td>0.0</td>\n",
       "      <td>0.0</td>\n",
       "      <td>0.0</td>\n",
       "    </tr>\n",
       "    <tr>\n",
       "      <th>3.0</th>\n",
       "      <th>6.0</th>\n",
       "      <td>0.0</td>\n",
       "      <td>0.0</td>\n",
       "      <td>0.0</td>\n",
       "      <td>0.0</td>\n",
       "      <td>0.0</td>\n",
       "    </tr>\n",
       "    <tr>\n",
       "      <th>6.0</th>\n",
       "      <th>9.0</th>\n",
       "      <td>1.0</td>\n",
       "      <td>0.0</td>\n",
       "      <td>0.0</td>\n",
       "      <td>0.0</td>\n",
       "      <td>0.0</td>\n",
       "    </tr>\n",
       "    <tr>\n",
       "      <th>9.0</th>\n",
       "      <th>12.0</th>\n",
       "      <td>1.0</td>\n",
       "      <td>0.0</td>\n",
       "      <td>0.0</td>\n",
       "      <td>0.0</td>\n",
       "      <td>0.0</td>\n",
       "    </tr>\n",
       "    <tr>\n",
       "      <th>12.0</th>\n",
       "      <th>15.0</th>\n",
       "      <td>1.0</td>\n",
       "      <td>0.0</td>\n",
       "      <td>0.0</td>\n",
       "      <td>0.0</td>\n",
       "      <td>0.0</td>\n",
       "    </tr>\n",
       "    <tr>\n",
       "      <th>...</th>\n",
       "      <th>...</th>\n",
       "      <th>...</th>\n",
       "      <td>...</td>\n",
       "      <td>...</td>\n",
       "      <td>...</td>\n",
       "      <td>...</td>\n",
       "      <td>...</td>\n",
       "    </tr>\n",
       "    <tr>\n",
       "      <th rowspan=\"5\" valign=\"top\">R5_M11-1464_MSD-1651_20220207_191552_callibrated.WAV</th>\n",
       "      <th>42.0</th>\n",
       "      <th>45.0</th>\n",
       "      <td>0.0</td>\n",
       "      <td>0.0</td>\n",
       "      <td>0.0</td>\n",
       "      <td>0.0</td>\n",
       "      <td>0.0</td>\n",
       "    </tr>\n",
       "    <tr>\n",
       "      <th>45.0</th>\n",
       "      <th>48.0</th>\n",
       "      <td>0.0</td>\n",
       "      <td>0.0</td>\n",
       "      <td>0.0</td>\n",
       "      <td>0.0</td>\n",
       "      <td>0.0</td>\n",
       "    </tr>\n",
       "    <tr>\n",
       "      <th>48.0</th>\n",
       "      <th>51.0</th>\n",
       "      <td>0.0</td>\n",
       "      <td>0.0</td>\n",
       "      <td>0.0</td>\n",
       "      <td>0.0</td>\n",
       "      <td>0.0</td>\n",
       "    </tr>\n",
       "    <tr>\n",
       "      <th>51.0</th>\n",
       "      <th>54.0</th>\n",
       "      <td>0.0</td>\n",
       "      <td>0.0</td>\n",
       "      <td>1.0</td>\n",
       "      <td>1.0</td>\n",
       "      <td>0.0</td>\n",
       "    </tr>\n",
       "    <tr>\n",
       "      <th>54.0</th>\n",
       "      <th>57.0</th>\n",
       "      <td>0.0</td>\n",
       "      <td>0.0</td>\n",
       "      <td>1.0</td>\n",
       "      <td>1.0</td>\n",
       "      <td>1.0</td>\n",
       "    </tr>\n",
       "  </tbody>\n",
       "</table>\n",
       "<p>171 rows × 5 columns</p>\n",
       "</div>"
      ],
      "text/plain": [
       "                                                                        Black-throatedBlueWarbler  \\\n",
       "file                                               start_time end_time                              \n",
       "R2_M11-1459_MSD-1657_20220207_191236_callibrate... 0.0        3.0                             0.0   \n",
       "                                                   3.0        6.0                             0.0   \n",
       "                                                   6.0        9.0                             1.0   \n",
       "                                                   9.0        12.0                            1.0   \n",
       "                                                   12.0       15.0                            1.0   \n",
       "...                                                                                           ...   \n",
       "R5_M11-1464_MSD-1651_20220207_191552_callibrate... 42.0       45.0                            0.0   \n",
       "                                                   45.0       48.0                            0.0   \n",
       "                                                   48.0       51.0                            0.0   \n",
       "                                                   51.0       54.0                            0.0   \n",
       "                                                   54.0       57.0                            0.0   \n",
       "\n",
       "                                                                        ScarletTanager  \\\n",
       "file                                               start_time end_time                   \n",
       "R2_M11-1459_MSD-1657_20220207_191236_callibrate... 0.0        3.0                  0.0   \n",
       "                                                   3.0        6.0                  0.0   \n",
       "                                                   6.0        9.0                  0.0   \n",
       "                                                   9.0        12.0                 0.0   \n",
       "                                                   12.0       15.0                 0.0   \n",
       "...                                                                                ...   \n",
       "R5_M11-1464_MSD-1651_20220207_191552_callibrate... 42.0       45.0                 0.0   \n",
       "                                                   45.0       48.0                 0.0   \n",
       "                                                   48.0       51.0                 0.0   \n",
       "                                                   51.0       54.0                 0.0   \n",
       "                                                   54.0       57.0                 0.0   \n",
       "\n",
       "                                                                        Black-throatedGreenWarbler  \\\n",
       "file                                               start_time end_time                               \n",
       "R2_M11-1459_MSD-1657_20220207_191236_callibrate... 0.0        3.0                              0.0   \n",
       "                                                   3.0        6.0                              0.0   \n",
       "                                                   6.0        9.0                              0.0   \n",
       "                                                   9.0        12.0                             0.0   \n",
       "                                                   12.0       15.0                             0.0   \n",
       "...                                                                                            ...   \n",
       "R5_M11-1464_MSD-1651_20220207_191552_callibrate... 42.0       45.0                             0.0   \n",
       "                                                   45.0       48.0                             0.0   \n",
       "                                                   48.0       51.0                             0.0   \n",
       "                                                   51.0       54.0                             1.0   \n",
       "                                                   54.0       57.0                             1.0   \n",
       "\n",
       "                                                                        Black-and-whiteWarbler  \\\n",
       "file                                               start_time end_time                           \n",
       "R2_M11-1459_MSD-1657_20220207_191236_callibrate... 0.0        3.0                          0.0   \n",
       "                                                   3.0        6.0                          0.0   \n",
       "                                                   6.0        9.0                          0.0   \n",
       "                                                   9.0        12.0                         0.0   \n",
       "                                                   12.0       15.0                         0.0   \n",
       "...                                                                                        ...   \n",
       "R5_M11-1464_MSD-1651_20220207_191552_callibrate... 42.0       45.0                         0.0   \n",
       "                                                   45.0       48.0                         0.0   \n",
       "                                                   48.0       51.0                         0.0   \n",
       "                                                   51.0       54.0                         1.0   \n",
       "                                                   54.0       57.0                         1.0   \n",
       "\n",
       "                                                                        AcadianFlycatcher  \n",
       "file                                               start_time end_time                     \n",
       "R2_M11-1459_MSD-1657_20220207_191236_callibrate... 0.0        3.0                     0.0  \n",
       "                                                   3.0        6.0                     0.0  \n",
       "                                                   6.0        9.0                     0.0  \n",
       "                                                   9.0        12.0                    0.0  \n",
       "                                                   12.0       15.0                    0.0  \n",
       "...                                                                                   ...  \n",
       "R5_M11-1464_MSD-1651_20220207_191552_callibrate... 42.0       45.0                    0.0  \n",
       "                                                   45.0       48.0                    0.0  \n",
       "                                                   48.0       51.0                    0.0  \n",
       "                                                   51.0       54.0                    0.0  \n",
       "                                                   54.0       57.0                    1.0  \n",
       "\n",
       "[171 rows x 5 columns]"
      ]
     },
     "execution_count": 6,
     "metadata": {},
     "output_type": "execute_result"
    }
   ],
   "source": [
    "detections = pd.read_csv(\"detections.csv\", index_col=[0,1,2]) # a dataframe with index \"/path/to/audio/file.wav\", \"species\", and \"time\" of detection. Each column is a different species.\n",
    "detections"
   ]
  },
  {
   "cell_type": "markdown",
   "metadata": {},
   "source": [
    "## Localize detections\n",
    "We need to set two parameters before we can try and localize these sounds. They are:\n",
    "\n",
    "- `min_n_receivers` : The minimum number of receivers that a sound must be detected on for localization to be attempted. Must be at least n+2 to localize a point in n dimensions. If you have a dense localization grid and expect your sound to be heard on more receivers, you can increase this number and it may improve the precision of location estimates.\n",
    "- `max_receiver_dist` : Time delays of arrival (TDOAs) are estimated between pairs of receivers. Only receivers within `max_receiver_dist` of each other will be used for TDOA estimation. If `max_receiver_dist`=100, then if 2 receivers >100 apart both contain detections of the same sound, a TDOA will not be estimated between them. This is useful for separating out multiple simultaneous sounds at different locations if you are deploying a large array."
   ]
  },
  {
   "cell_type": "code",
   "execution_count": 7,
   "metadata": {},
   "outputs": [],
   "source": [
    "# parameters for localization\n",
    "min_n_receivers = 4 # min_number of receivers for a detection to be localized\n",
    "max_receiver_dist = 100 # maximum distance between receivers \n",
    "localized_events = array.localize_detections(detections, \n",
    "                                            min_n_receivers = min_n_receivers, \n",
    "                                            max_receiver_dist=max_receiver_dist)"
   ]
  },
  {
   "cell_type": "markdown",
   "metadata": {},
   "source": [
    "The method `array.localize_detections` returns a list of `SpatialEvent` objects. Each of these contains all the information used to estimate a location of a sound event. There is a lot of redundancy in these objects, i.e. for any given individual sound-event, we expect there to be multiple `SpatialEvent` objects, each with their own estimate of the position. Here's an outline for how these SpatialEvents are generated. \n",
    "\n",
    "For every receiver within a time-window that has a detection, we:\n",
    "\n",
    "- Choose one receiver with a detection to be the central 'reference receiver'. Every other receiver that also has a detection of the same sound class, and is within `max_receiver_dist` of this reference receiver will  be included in the `SpatialEvent` object. The reference receiver will be the first receiver in the list of `receiver_files` stored in the `SpatialEvent.receiver_files` attribute.\n",
    "- Cross-correlation is used to estimate the TDOA between the reference receiver, and all the other receivers included in the `SpatialEvent` object. The cross-correlations, and TDOAs are saved as the attributes `SpatialEvent.cc_maxs` and `SpatialEvent.tdoas`.\n",
    "- A localization algorithm finds a solution given the TDOAs, and estimates the location of the sound source. This is saved in the `SpatialEvent.location_estimate` attribute.\n",
    "\n",
    "In this way, each SpatialEvent provides an estimate of the sound source location, based on the TDOAs estimated against a different reference receiver. There are multiple SpatialEvents even for the same single sound-event, because we can estimate the location trying to use multiple different receivers as the central 'reference receiver'.\n",
    "\n",
    "Let's take a look at some of the attributes of these objects below - using the first `SpatialEvent` object as an example."
   ]
  },
  {
   "cell_type": "code",
   "execution_count": 8,
   "metadata": {},
   "outputs": [
    {
     "name": "stdout",
     "output_type": "stream",
     "text": [
      "The start time of the detection: 6.0\n",
      "This is a detection of the class/species: Black-throatedBlueWarbler\n",
      "The duration of the time-window in which the sound was detected: 3.0\n",
      "The estimated location of the sound: [-51.18266765  34.57531619]\n",
      "The receivers on which our species was detected: \n",
      "['R2_M11-1459_MSD-1657_20220207_191236_callibrated.WAV', 'R1_M11-1453_MSD-1631_20220207_191138_callibrated.WAV', 'R4_MSD-1460_MSD-1655_20220207_191507_callibrated.WAV', 'R3_M11-1458_MSD-1658_20220207_191311_callibrated.WAV', 'R8_MSD-1462_MSD-1654_20220207_191937_callibrated.WAV', 'R6_M11-1463_MSD-1656_20220207_191417_callibrated.WAV', 'R5_M11-1464_MSD-1651_20220207_191552_callibrated.WAV']\n",
      "The estimated time-delays of arrival: \n",
      "[ 0.         -0.01614936 -0.00256602 -0.05523269  0.02620481 -0.12798269\n",
      " -0.00192019]\n",
      "The normalized Cross-Correlation scores: \n",
      "[1.         0.02580342 0.01255246 0.01375742 0.02289827 0.0104113\n",
      " 0.01199636]\n"
     ]
    }
   ],
   "source": [
    "example = localized_events[0]\n",
    "print(f\"The start time of the detection: {example.start_time}\")\n",
    "print(f\"This is a detection of the class/species: {example.class_name}\")\n",
    "print(f\"The duration of the time-window in which the sound was detected: {example.duration}\")\n",
    "print(f\"The estimated location of the sound: {example.location_estimate}\")\n",
    "print(f\"The receivers on which our species was detected: \\n{example.receiver_files}\")\n",
    "print(f\"The estimated time-delays of arrival: \\n{example.tdoas}\")\n",
    "print(f\"The normalized Cross-Correlation scores: \\n{example.cc_maxs}\")"
   ]
  },
  {
   "cell_type": "markdown",
   "metadata": {},
   "source": [
    "Visualize the estimated position from this SpatialEvent"
   ]
  },
  {
   "cell_type": "code",
   "execution_count": 9,
   "metadata": {},
   "outputs": [
    {
     "data": {
      "image/png": "[encoded data removed]",
      "text/plain": [
       "<Figure size 640x480 with 1 Axes>"
      ]
     },
     "metadata": {},
     "output_type": "display_data"
    }
   ],
   "source": [
    "plt.plot(aru_coords[\"x\"], aru_coords[\"y\"], \"^\", label = \"ARU\")\n",
    "plt.scatter(x = example.location_estimate[0], y = example.location_estimate[1], color = \"red\", label = f\"{example.class_name}\")\n",
    "plt.legend(bbox_to_anchor=(1.02, 1), loc='upper left')\n",
    "plt.show()"
   ]
  },
  {
   "cell_type": "markdown",
   "metadata": {},
   "source": [
    "But we have multiple different estimates for the event, given by the different SpatialEvents. So we can plot all the location estimates in this time-window for Black-throated blue warbler. Given the small size of this array, these are all likely estimates of the same bird singing. In fact in this case, we used a speaker to broadcast the sounds, so we know there was only one sound source. So the multiple dots on the plot below give us multiple estimates of the same the single sound event, each using a different ARU as the reference receiver. Ideally the position estimates would all be in the same place, and we'd be confident we're localizing a single bird with high precision. In fact, we see that the estimates are all over the place!"
   ]
  },
  {
   "cell_type": "code",
   "execution_count": 10,
   "metadata": {},
   "outputs": [
    {
     "data": {
      "text/plain": [
       "<matplotlib.legend.Legend at 0x2a96a4e50>"
      ]
     },
     "execution_count": 10,
     "metadata": {},
     "output_type": "execute_result"
    },
    {
     "data": {
      "image/png": "[encoded data removed]",
      "text/plain": [
       "<Figure size 640x480 with 1 Axes>"
      ]
     },
     "metadata": {},
     "output_type": "display_data"
    }
   ],
   "source": [
    "black_throated_blue_warblers = [e for e in localized_events if e.class_name ==example.class_name and e.start_time==example.start_time] # get all the SpatialEvents in this time-window attributed to Black-throatedBlueWarbler\n",
    "x_coords = [e.location_estimate[0] for e in black_throated_blue_warblers] # get the x-coordinates of the estimated locations\n",
    "y_coords = [e.location_estimate[1] for e in black_throated_blue_warblers] # get the y-coordinates of the estimated locations\n",
    "plt.scatter(x_coords, y_coords, color = \"red\", label = \"Black-throatedBlueWarbler\", alpha = 0.4, edgecolors=\"black\") # plot the estimated locations\n",
    "plt.plot(aru_coords[\"x\"], aru_coords[\"y\"], \"^\", label = \"ARU\") # plot the ARU locations\n",
    "# make the legend appear outside of the plot\n",
    "plt.legend(bbox_to_anchor=(1.02, 1), loc='upper left')"
   ]
  },
  {
   "cell_type": "markdown",
   "metadata": {},
   "source": [
    "## "
   ]
  },
  {
   "cell_type": "markdown",
   "metadata": {},
   "source": [
    "## Filter out bad localizations\n",
    "\n",
    "One of the reasons we have multiple estimated positions that disagree with each other, is we did not filter the estimated positions by any measure of confidence in the estimated position. An error metric we can use is to look at how well the measured TDOAs between the receivers match the estimated position. To summarize this in a single metric, we use the root-mean square (or L2 norm) of the TDOA residuals (measured in meters). This is a single number, that gives a measure of how well the time-delays agree with what we would expect given the estimated location. You can access the `residual_rms` attribute of the `SpatialEvent` object to get this number.\n",
    "\n",
    "A `residual_rms` of less than 5m suggests a sound-source location has been estimated with high precision. We can filter out the high-error SpatialEvents and plot only the precise ones. As these recordings actually came from a speaker playing recordings of a Black-throated Blue Warbler, we can compare this estimated position of thes to the true known position. Which was `-86.440, 58.861`. "
   ]
  },
  {
   "cell_type": "code",
   "execution_count": 11,
   "metadata": {},
   "outputs": [
    {
     "data": {
      "text/plain": [
       "<matplotlib.legend.Legend at 0x2a8ba4f70>"
      ]
     },
     "execution_count": 11,
     "metadata": {},
     "output_type": "execute_result"
    },
    {
     "data": {
      "image/png": "[encoded data removed]",
      "text/plain": [
       "<Figure size 640x480 with 1 Axes>"
      ]
     },
     "metadata": {},
     "output_type": "display_data"
    }
   ],
   "source": [
    "# plt.scatter(x_coords, y_coords, c = TDOA_residual_rms, cmap = \"plasma\", edgecolor = \"black\", label = \"Black-throatedBlueWarbler\") # plot the estimated locations\n",
    "low_rms = [e for e in black_throated_blue_warblers if e.residual_rms < 5] # get only the events with low residual rms\n",
    "plt.plot(aru_coords[\"x\"], aru_coords[\"y\"], \"^\", label = \"ARU\") # plot the ARU locations\n",
    "plt.plot(-86.440, 58.861, \"X\", markersize = 10, label = \"Real position\") # plot the ARU locations\n",
    "plt.scatter([e.location_estimate[0] for e in low_rms], [e.location_estimate[1] for e in low_rms], edgecolor = \"black\", label = \"Black-throatedBlueWarbler\") # plot the estimated locations\n",
    "plt.legend(bbox_to_anchor=(1.02, 1), loc='upper left')"
   ]
  },
  {
   "cell_type": "markdown",
   "metadata": {},
   "source": [
    "## Tune localization parameters\n",
    "There are also a number of parameters you might wish to experiment with, or tune to try and optimize your results. This includes only returning the localized positions with low error, like we did manually above.\n",
    "\n",
    "- `cc_filter` : The filter applied to the signals cross-correlation. Depending on the acoustic properties of your setting, a different filter may improve TDOA estimation.\n",
    "- `cc_threshold` : When estimating the TDOA, we find the time-delay that maximizes cross-correlation. You can filter out TDOAs estimated from only poorly-matching audio by increasing the `cc_threshold`. The `cc_threshold` you choose to use will also depend on the `cc_filter` used.\n",
    "- `residual_threshold` : Once a location is estimated from the TDOAs, you will want to filter out positions that poorly match the observed TDOAs. Setting a low `residual_threshold` will do this.\n",
    "- `bandpass_ranges` : The frequency ranges to bandpass your audio to before estimating TDOAs. This helps improve time-delay estimation.\n",
    "- `localization_algorithm` : There are multiple ways to try and solve the location from a set of TDOAs. We have implemented both the Gillette & Silverman algorithm & Soundfinder (GPS) algorithm\n"
   ]
  },
  {
   "cell_type": "code",
   "execution_count": 12,
   "metadata": {},
   "outputs": [],
   "source": [
    "# parameters for localization\n",
    "min_n_receivers = 4 #\n",
    "max_receiver_dist = 100 #\n",
    "\n",
    "# paramaters that can be tuned to increase the accuracy of the localization\n",
    "bandpass_ranges = {\"Black-throatedBlueWarbler\": [5000,10000],\n",
    "                    \"ScarletTanager\": [1000,5000],\n",
    "                    \"Black-throatedGreenWarbler\": [5000,10000],\n",
    "                   \"Black-and-whiteWarbler\": [5000,10000],\n",
    "                   \"AcadianFlycatcher\": [2000,7000]}\n",
    "\n",
    "cc_filter = \"phat\" # phase transform cross-correlation\n",
    "residual_threshold = 5 # threshold for TDOA residual rms. TDOAs with a higher residual than this will be discarded\n",
    "cc_threshold = 0.01 # threshold for cross-correlation score. TDOAs with a lower CC than this will be discarded. Can be increased to increase precision at the cost of recall\n",
    "localization_algorithm = \"gillette\" # options: 'soundfinder', 'gillette'\n",
    "\n",
    "localized_events = array.localize_detections(detections, \n",
    "                                            min_n_receivers = min_n_receivers, \n",
    "                                            max_receiver_dist=max_receiver_dist, \n",
    "                                            localization_algorithm=localization_algorithm,\n",
    "                                            cc_threshold=cc_threshold,\n",
    "                                            cc_filter=cc_filter,\n",
    "                                            residual_threshold=residual_threshold)"
   ]
  },
  {
   "cell_type": "code",
   "execution_count": 13,
   "metadata": {},
   "outputs": [
    {
     "data": {
      "text/plain": [
       "[<matplotlib.lines.Line2D at 0x2a97dfcd0>]"
      ]
     },
     "execution_count": 13,
     "metadata": {},
     "output_type": "execute_result"
    },
    {
     "data": {
      "image/png": "[encoded data removed]",
      "text/plain": [
       "<Figure size 640x480 with 1 Axes>"
      ]
     },
     "metadata": {},
     "output_type": "display_data"
    }
   ],
   "source": [
    "black_throated_blue_warblers = [e for e in localized_events if e.class_name ==\"Black-throatedBlueWarbler\" and e.start_time == 6.0] # get all the SpatialEvents attributed to Black-throatedBlueWarbler\n",
    "x_coords = [e.location_estimate[0] for e in black_throated_blue_warblers] # get the x-coordinates of the estimated locations\n",
    "y_coords = [e.location_estimate[1] for e in black_throated_blue_warblers] # get the y-coordinates of the estimated locations\n",
    "plt.scatter(x_coords, y_coords, color = \"blue\", label = \"Black-throatedBlueWarbler\", alpha = 0.4) # plot the estimated locations\n",
    "plt.plot(aru_coords[\"x\"], aru_coords[\"y\"], \"^\", label = \"ARU\") # plot the ARU locations"
   ]
  },
  {
   "cell_type": "markdown",
   "metadata": {},
   "source": [
    "**Clean up:** Run the following cell to delete the files you downloaded."
   ]
  },
  {
   "cell_type": "code",
   "execution_count": 15,
   "metadata": {},
   "outputs": [],
   "source": [
    "from pathlib import Path\n",
    "for p in Path(\".\").glob(\"R*_callibrated.WAV\"):\n",
    "    p.unlink()\n",
    "Path(\"aru_coords.csv\").unlink()\n",
    "Path(\"detections.csv\").unlink()"
   ]
  }
 ],
 "metadata": {
  "kernelspec": {
   "display_name": "opso_dev",
   "language": "python",
   "name": "opso_dev"
  },
  "language_info": {
   "codemirror_mode": {
    "name": "ipython",
    "version": 3
   },
   "file_extension": ".py",
   "mimetype": "text/x-python",
   "name": "python",
   "nbconvert_exporter": "python",
   "pygments_lexer": "ipython3",
   "version": "3.9.13"
  }
 },
 "nbformat": 4,
 "nbformat_minor": 4
}
