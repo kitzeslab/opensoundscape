{
 "cells": [
  {
   "cell_type": "markdown",
   "metadata": {},
   "source": [
    "# Train classifiers on BirdNET or Perch embeddings\n",
    "\n",
    "This notebook shows examples of how to train simple one-layer or multi-layer fully-connected neural networks (aka multi-layer perceptron networks, MLPs) on Perch [1] and BirdNET [2], which are TensorFlow models. For a more general introduction to transfer learning tools in OpenSoundscape see the `transfer_learning.ipynb` notebook, which focuses on PyTorch (rather than Tensorflow) embedding models. \n",
    "\n",
    "Though BirdNET and Perch are TensorFlow models, we can still use them as feature extractors (to generate embeddings) and train shallow classifiers on top of them with PyTorch. We just won't be able to train the feature extractor weights at all. \n",
    "\n",
    "For this notebook, you'll need a Python environment with `tensorflow` and `tensorflow-hub` packages installed. If you want cuda gpu acceleration on a linux machine, check this [table](https://www.tensorflow.org/install/source#gpu) for the `tensorflow` and `cudnn` package versions you'll need to be compatible with your current CUDA version (you can check the cuda version on your machine by calling `nvidia-smi` from command line). Note that the `cudnn` package version might conflict with which version PyTorch wants, so we recommend creating separate Python environments for pytorch and tensorflow cuda-compatability. \n",
    "\n",
    "Note that in this tutorial, all classifiers are trained as multi-target (each class is predicted independently, such that any sample can have 0, 1, or >1 classes present). Most bioacoustics classification tasks are multi-target. \n",
    "\n",
    "## preparing your python environment\n",
    "This notebook uses the [bioacoustics_model_zoo](https://github.com/kitzeslab/bioacoustics-model-zoo), so you'll want to install that repository as a package in your python environment. After installing, be sure to restart this notebook's kernel so that the model zoo is available. From command line, you can install the model zoo from github using\n",
    "\n",
    "`pip install git+https://github.com/kitzeslab/bioacoustics-model-zoo`\n",
    "\n",
    "If you want a specific version (aka tag or release) of the model zoo, you can specify it after an @ symbol:\n",
    "\n",
    "`pip install git+https://github.com/kitzeslab/bioacoustics-model-zoo@0.11.0.dev1`\n",
    "\n",
    "\n",
    "> [1] Ghani, B., T. Denton, S. Kahl, H. Klinck, T. Denton, S. Kahl, and H. Klinck. 2023. Global birdsong embeddings enable superior transfer learning for bioacoustic classification. Scientific Reports 13:22876.\n",
    ">\n",
    "> [2] Kahl, Stefan, et al. \"BirdNET: A deep learning solution for avian diversity monitoring.\" Ecological Informatics 61 (2021): 101236.\n"
   ]
  },
  {
   "cell_type": "markdown",
   "metadata": {},
   "source": [
    "## Run this tutorial\n",
    "\n",
    "This tutorial is more than a reference! It's a Jupyter Notebook which you can run and modify on Google Colab or your own computer.\n",
    "\n",
    "|Link to tutorial|How to run tutorial|\n",
    "| :- | :- |\n",
    "| [![Open In Colab](https://colab.research.google.com/assets/colab-badge.svg)](https://colab.research.google.com/github/kitzeslab/opensoundscape/blob/master/docs/tutorials/train_cnn.ipynb) | The link opens the tutorial in Google Colab. Uncomment the \"installation\" line in the first cell to install OpenSoundscape. |\n",
    "| [![Download via DownGit](https://img.shields.io/badge/GitHub-Download-teal?logo=github)](https://minhaskamal.github.io/DownGit/#/home?url=https://github.com/kitzeslab/opensoundscape/blob/master/docs/tutorials/train_cnn.ipynb) | The link downloads the tutorial file to your computer. Follow the [Jupyter installation instructions](https://opensoundscape.org/en/latest/installation/jupyter.html), then open the tutorial file in Jupyter. |"
   ]
  },
  {
   "cell_type": "code",
   "execution_count": 13,
   "metadata": {},
   "outputs": [],
   "source": [
    "# if this is a Google Colab notebook, install opensoundscape in the runtime environment\n",
    "if 'google.colab' in str(get_ipython()):\n",
    "  %pip install opensoundscape==0.12.0 ipykernel==5.5.6 ipython==7.34.0 pillow==9.4.0\n",
    "  %pip install git+https://github.com/kitzeslab/bioacoustics-model-zoo\n",
    "  num_workers=0\n",
    "else:\n",
    "  num_workers=4"
   ]
  },
  {
   "cell_type": "markdown",
   "metadata": {},
   "source": [
    "## Setup"
   ]
  },
  {
   "cell_type": "markdown",
   "metadata": {},
   "source": [
    "### Import needed packages"
   ]
  },
  {
   "cell_type": "code",
   "execution_count": 1,
   "metadata": {},
   "outputs": [
    {
     "name": "stderr",
     "output_type": "stream",
     "text": [
      "/var/folders/d8/265wdp1n0bn_r85dh3pp95fh0000gq/T/ipykernel_55607/4234765199.py:10: TqdmExperimentalWarning: Using `tqdm.autonotebook.tqdm` in notebook mode. Use `tqdm.tqdm` instead to force console mode (e.g. in jupyter console)\n",
      "  from tqdm.autonotebook import tqdm\n"
     ]
    }
   ],
   "source": [
    "import torch\n",
    "import pandas as pd\n",
    "from pathlib import Path\n",
    "import numpy as np\n",
    "import pandas as pd\n",
    "import random \n",
    "from glob import glob\n",
    "import sklearn\n",
    "\n",
    "from tqdm.autonotebook import tqdm\n",
    "from sklearn.metrics import average_precision_score, roc_auc_score\n",
    "from pathlib import Path\n",
    "\n",
    "#set up plotting\n",
    "from matplotlib import pyplot as plt\n",
    "plt.rcParams['figure.figsize']=[15,5] #for large visuals\n",
    "%config InlineBackend.figure_format = 'retina'\n",
    "\n",
    "# opensoundscape transfer learning tools\n",
    "from opensoundscape.ml.shallow_classifier import MLPClassifier, quick_fit, fit_classifier_on_embeddings\n"
   ]
  },
  {
   "cell_type": "markdown",
   "metadata": {},
   "source": [
    "### Set random seeds\n",
    "\n",
    "Set manual seeds for Pytorch and Python. These essentially \"fix\" the results of any stochastic steps in model training, ensuring that training results are reproducible. You probably don't want to do this when you actually train your model, but it's useful for debugging."
   ]
  },
  {
   "cell_type": "code",
   "execution_count": 2,
   "metadata": {},
   "outputs": [],
   "source": [
    "torch.manual_seed(0)\n",
    "random.seed(0)\n",
    "np.random.seed(0)"
   ]
  },
  {
   "cell_type": "markdown",
   "metadata": {},
   "source": [
    "### Download and prepare training data\n"
   ]
  },
  {
   "cell_type": "markdown",
   "metadata": {},
   "source": [
    "#### Download example files\n",
    "Download a set of aquatic soundscape recordings with annotations of _Rana sierrae_ vocalizations. If you already have them, you can skip this step. \n",
    "\n",
    "Option 1: run the cell below\n",
    "\n",
    "- if you get a 403 error, DataDryad suspects you are a bot. Use Option 2. \n",
    "\n",
    "Option 2:\n",
    "\n",
    "- Download and unzip the `rana_sierrae_2022.zip` folder containing audio and annotations from this [public Dryad dataset](https://datadryad.org/stash/dataset/doi:10.5061/dryad.9s4mw6mn3#readme)\n",
    "- Move the unzipped `rana_sierrae_2022` folder into the current folder"
   ]
  },
  {
   "cell_type": "code",
   "execution_count": 3,
   "metadata": {},
   "outputs": [
    {
     "name": "stdout",
     "output_type": "stream",
     "text": [
      "--2025-02-28 12:50:59--  https://datadryad.org/stash/downloads/file_stream/2722802\n",
      "Resolving datadryad.org (datadryad.org)... 44.231.126.195, 35.161.56.100, 44.236.210.21, ...\n",
      "Connecting to datadryad.org (datadryad.org)|44.231.126.195|:443... connected.\n",
      "HTTP request sent, awaiting response... 403 Forbidden\n",
      "2025-02-28 12:51:00 ERROR 403: Forbidden.\n",
      "\n",
      "Archive:  rana_sierrae_2022.zip\n",
      "  End-of-central-directory signature not found.  Either this file is not\n",
      "  a zipfile, or it constitutes one disk of a multi-part archive.  In the\n",
      "  latter case the central directory and zipfile comment will be found on\n",
      "  the last disk(s) of this archive.\n",
      "Archive:  rana_sierrae_2022.ZIP\n",
      "  End-of-central-directory signature not found.  Either this file is not\n",
      "  a zipfile, or it constitutes one disk of a multi-part archive.  In the\n",
      "  latter case the central directory and zipfile comment will be found on\n",
      "  the last disk(s) of this archive.\n"
     ]
    }
   ],
   "source": [
    "# Note: the \"!\" preceding each line below allows us to run bash commands in a Jupyter notebook\n",
    "# If you are not running this code in a notebook, input these commands into your terminal instead\n",
    "!wget -O rana_sierrae_2022.zip https://datadryad.org/stash/downloads/file_stream/2722802;\n",
    "!unzip rana_sierrae_2022;"
   ]
  },
  {
   "cell_type": "markdown",
   "metadata": {},
   "source": [
    "#### Prepare audio data\n",
    "See the train_cnn.ipynb tutorial for step-by-step walkthrough of this process, or just run the cells below to prepare a trainig set."
   ]
  },
  {
   "cell_type": "code",
   "execution_count": 4,
   "metadata": {},
   "outputs": [
    {
     "name": "stderr",
     "output_type": "stream",
     "text": [
      "/Users/SML161/miniconda3/envs/bmz_dev/lib/python3.10/site-packages/opensoundscape/annotations.py:302: FutureWarning: The behavior of DataFrame concatenation with empty or all-NA entries is deprecated. In a future version, this will no longer exclude empty or all-NA columns when determining the result dtypes. To retain the old behavior, exclude the relevant entries before the concat operation.\n",
      "  all_annotations_df = pd.concat(all_file_dfs).reset_index(drop=True)\n"
     ]
    }
   ],
   "source": [
    "# Set the current directory to where the folder `rana_sierrae_2022` is located:\n",
    "dataset_path = Path(\"./rana_sierrae_2022/\")\n",
    "\n",
    "# let's generate clip labels of 5s duration (to match Perch input duration) using the raven annotations\n",
    "# and some utility functions from opensoundscape\n",
    "from opensoundscape.annotations import BoxedAnnotations\n",
    "\n",
    "audio_and_raven_files = pd.read_csv(f\"{dataset_path}/audio_and_raven_files.csv\")\n",
    "# update the paths to where we have the audio and raven files stored\n",
    "audio_and_raven_files[\"audio\"] = audio_and_raven_files[\"audio\"].apply(\n",
    "    lambda x: f\"{dataset_path}/{x}\"\n",
    ")\n",
    "audio_and_raven_files[\"raven\"] = audio_and_raven_files[\"raven\"].apply(\n",
    "    lambda x: f\"{dataset_path}/{x}\"\n",
    ")\n",
    "\n",
    "annotations = BoxedAnnotations.from_raven_files(\n",
    "    raven_files=audio_and_raven_files[\"raven\"],\n",
    "    audio_files=audio_and_raven_files[\"audio\"],\n",
    "    annotation_column=\"annotation\",\n",
    ")\n",
    "# generate labels for 5s clips, including any labels that overlap by at least 0.2 seconds\n",
    "labels = annotations.clip_labels(clip_duration=3, min_label_overlap=0.2)"
   ]
  },
  {
   "cell_type": "markdown",
   "metadata": {},
   "source": [
    "#### Inspect labels\n",
    "\n",
    "Count number of each annotation type: \n",
    "\n",
    "Note that the 'X' label is for when the annotator was uncertain about the identity of a call. Labels A-E denote distinct call types."
   ]
  },
  {
   "cell_type": "code",
   "execution_count": 5,
   "metadata": {},
   "outputs": [
    {
     "data": {
      "text/plain": [
       "A    585\n",
       "E    154\n",
       "D     61\n",
       "B     22\n",
       "C     91\n",
       "X    120\n",
       "dtype: int64"
      ]
     },
     "execution_count": 5,
     "metadata": {},
     "output_type": "execute_result"
    }
   ],
   "source": [
    "labels.sum()"
   ]
  },
  {
   "cell_type": "markdown",
   "metadata": {},
   "source": [
    "#### split into training and validation data\n",
    "We'll just focus on class 'A', the call type with the most annotations. We'll randomly split the clips into training and validation data, acknowledging that this approach does not test the ability of the model to generalize. Since the samples in the training and validation sets could be adjascent 2-second audio clips, good performance could simply mean the model has memorized the training samples, and the validation set has very similar samples. "
   ]
  },
  {
   "cell_type": "code",
   "execution_count": 6,
   "metadata": {},
   "outputs": [],
   "source": [
    "labels_train, labels_val = sklearn.model_selection.train_test_split(labels[[\"A\"]])"
   ]
  },
  {
   "cell_type": "markdown",
   "metadata": {},
   "source": [
    "## Train classification head on BirdNET\n",
    "\n",
    "The BirdNET and Perch models provided in the Bioacoustics Model Zoo have a `.tf_model` attribute containing the TensorFlow inference model and a `.network` attribute containing a trainable PyTorch classification head, specifically an instance of the MLPCLassifier class. To train a custom classifier on the embeddings extracted by these models, we just need to (1) embed the training and validation samples, then (2) pass the embeddings and labels to the `.network.fit()` method. \n",
    "\n",
    "This is equivalent to passing the `.network` to the the `opensoundscape.ml.shallow_classifier.quick_fit()` method, so you can also experiment with generating your own classification heads (e.g. various instances of MLPClassifier) and fitting each of them on the embeddings. See the transfer learning tutorial for further examples. "
   ]
  },
  {
   "cell_type": "markdown",
   "metadata": {},
   "source": [
    "#### First, get BirdNET from the Bioacoustics Model Zoo"
   ]
  },
  {
   "cell_type": "code",
   "execution_count": 7,
   "metadata": {},
   "outputs": [
    {
     "name": "stderr",
     "output_type": "stream",
     "text": [
      "/Users/SML161/bioacoustics-model-zoo/bioacoustics_model_zoo/bmz_birdset/bmz_birdset.py:31: UserWarning: \n",
      "The version_base parameter is not specified.\n",
      "Please specify a compatability version level, or None.\n",
      "Will assume defaults for version 1.1\n",
      "  hydra.initialize(config_path=\"configs\")  # relative to current working dir\n"
     ]
    },
    {
     "name": "stdout",
     "output_type": "stream",
     "text": [
      "File BirdNET_GLOBAL_6K_V2.4_Labels_af.txt already exists; skipping download.\n",
      "downloading model from URL...\n",
      "File BirdNET_GLOBAL_6K_V2.4_Model_FP16.tflite already exists; skipping download.\n"
     ]
    },
    {
     "name": "stderr",
     "output_type": "stream",
     "text": [
      "/Users/SML161/miniconda3/envs/bmz_dev/lib/python3.10/site-packages/opensoundscape/ml/cnn.py:628: UserWarning: \n",
      "                    This architecture is not listed in opensoundscape.ml.cnn_architectures.ARCH_DICT.\n",
      "                    It will not be available for loading after saving the model with .save() (unless using pickle=True). \n",
      "                    To make it re-loadable, define a function that generates the architecture from arguments: (n_classes, n_channels) \n",
      "                    then use opensoundscape.ml.cnn_architectures.register_architecture() to register the generating function.\n",
      "\n",
      "                    The function can also set the returned object's .constructor_name to the registered string key in ARCH_DICT\n",
      "                    to avoid this warning and ensure it is reloaded correctly by opensoundscape.ml.load_model().\n",
      "\n",
      "                    See opensoundscape.ml.cnn_architectures module for examples of constructor functions\n",
      "                    \n",
      "  warnings.warn(\n",
      "/Users/SML161/miniconda3/envs/bmz_dev/lib/python3.10/site-packages/opensoundscape/ml/cnn.py:652: UserWarning: Failed to detect expected # input channels of this architecture.Make sure your architecture expects the number of channels equal to `channels` argument 1). Pytorch architectures generally expect 3 channels by default.\n",
      "  warnings.warn(\n"
     ]
    }
   ],
   "source": [
    "import bioacoustics_model_zoo as bmz\n",
    "\n",
    "birdnet = bmz.BirdNET()"
   ]
  },
  {
   "cell_type": "markdown",
   "metadata": {},
   "source": [
    "#### Second, generate embeddings on the training and validation samples\n",
    "\n",
    "In general, generating embeddings will take a bit of time (because it requires loading, preprocessing, and embedding samples) but training shallow classifiers will be fast. "
   ]
  },
  {
   "cell_type": "code",
   "execution_count": 8,
   "metadata": {},
   "outputs": [
    {
     "data": {
      "application/vnd.jupyter.widget-view+json": {
       "model_id": "5eab070a3d1346e1a04d020a5e983dac",
       "version_major": 2,
       "version_minor": 0
      },
      "text/plain": [
       "  0%|          | 0/12 [00:00<?, ?it/s]"
      ]
     },
     "metadata": {},
     "output_type": "display_data"
    },
    {
     "data": {
      "application/vnd.jupyter.widget-view+json": {
       "model_id": "9ce1a5f47bfd421b9e0202c080073118",
       "version_major": 2,
       "version_minor": 0
      },
      "text/plain": [
       "  0%|          | 0/4 [00:00<?, ?it/s]"
      ]
     },
     "metadata": {},
     "output_type": "display_data"
    }
   ],
   "source": [
    "emb_train = birdnet.embed(labels_train, return_dfs=False, batch_size=128, num_workers=0)\n",
    "emb_val = birdnet.embed(labels_val, return_dfs=False, batch_size=128, num_workers=0)"
   ]
  },
  {
   "cell_type": "markdown",
   "metadata": {},
   "source": [
    "#### Third, fit the shallow classifier on the desired classes"
   ]
  },
  {
   "cell_type": "code",
   "execution_count": 9,
   "metadata": {},
   "outputs": [
    {
     "name": "stdout",
     "output_type": "stream",
     "text": [
      "Epoch 100/1000, Loss: 0.3305512070655823, Val Loss: 0.3374575674533844\n",
      "val AU ROC: 0.927\n",
      "val MAP: 0.823\n",
      "Epoch 200/1000, Loss: 0.2898257076740265, Val Loss: 0.3212742805480957\n",
      "val AU ROC: 0.929\n",
      "val MAP: 0.828\n",
      "Epoch 300/1000, Loss: 0.26516640186309814, Val Loss: 0.32037028670310974\n",
      "val AU ROC: 0.927\n",
      "val MAP: 0.827\n",
      "Epoch 400/1000, Loss: 0.24709737300872803, Val Loss: 0.32408201694488525\n",
      "val AU ROC: 0.923\n",
      "val MAP: 0.821\n",
      "Epoch 500/1000, Loss: 0.23241738975048065, Val Loss: 0.3291391432285309\n",
      "val AU ROC: 0.919\n",
      "val MAP: 0.818\n",
      "Epoch 600/1000, Loss: 0.21972902119159698, Val Loss: 0.3344647288322449\n",
      "val AU ROC: 0.915\n",
      "val MAP: 0.813\n",
      "Epoch 700/1000, Loss: 0.20837059617042542, Val Loss: 0.33978578448295593\n",
      "val AU ROC: 0.911\n",
      "val MAP: 0.810\n",
      "Epoch 800/1000, Loss: 0.19800180196762085, Val Loss: 0.3450978100299835\n",
      "val AU ROC: 0.909\n",
      "val MAP: 0.807\n",
      "Epoch 900/1000, Loss: 0.1884281188249588, Val Loss: 0.3504630923271179\n",
      "val AU ROC: 0.906\n",
      "val MAP: 0.804\n",
      "Epoch 1000/1000, Loss: 0.17952516674995422, Val Loss: 0.3559454381465912\n",
      "val AU ROC: 0.904\n",
      "val MAP: 0.802\n",
      "Training complete\n"
     ]
    }
   ],
   "source": [
    "# We want to train the classifier on the 'A' class here, corresponding to the primary R. sierrae call type.\n",
    "# Let's replace fc output layer with 1-output layer for class 'A'\n",
    "classes = [\"A\"]\n",
    "birdnet.change_classes(classes)\n",
    "\n",
    "# fit the classification head with embeddings and labels\n",
    "birdnet.network.fit(emb_train, labels_train.values, emb_val, labels_val.values)"
   ]
  },
  {
   "cell_type": "markdown",
   "metadata": {},
   "source": [
    "#### Fourth, evaluate the classifier on the validation set"
   ]
  },
  {
   "cell_type": "code",
   "execution_count": 10,
   "metadata": {},
   "outputs": [
    {
     "data": {
      "text/plain": [
       "0.904199372056515"
      ]
     },
     "execution_count": 10,
     "metadata": {},
     "output_type": "execute_result"
    }
   ],
   "source": [
    "# make predictions by passing the embeddings through the classifier\n",
    "preds = birdnet.network(torch.tensor(emb_val)).detach()\n",
    "# calculate the area under the ROC score\n",
    "roc_auc_score(labels_val.values, preds, average=None)"
   ]
  },
  {
   "cell_type": "markdown",
   "metadata": {},
   "source": [
    "to visualize the performance, let's plot histograms of classifier logit scores for positive and negative samples\n",
    "\n",
    "it shows that precision is ok for scores above 2 (few negatives get high scores), but recall is only moderate (many positive samples get low scores)"
   ]
  },
  {
   "cell_type": "code",
   "execution_count": 11,
   "metadata": {},
   "outputs": [
    {
     "name": "stderr",
     "output_type": "stream",
     "text": [
      "/Users/SML161/miniconda3/envs/bmz_dev/lib/python3.10/site-packages/matplotlib_inline/config.py:68: DeprecationWarning: InlineBackend._figure_format_changed is deprecated in traitlets 4.1: use @observe and @unobserve instead.\n",
      "  def _figure_format_changed(self, name, old, new):\n"
     ]
    },
    {
     "data": {
      "text/plain": [
       "<matplotlib.legend.Legend at 0x36521e140>"
      ]
     },
     "execution_count": 11,
     "metadata": {},
     "output_type": "execute_result"
    },
    {
     "data": {
      "image/png": "[encoded data removed]",
      "text/plain": [
       "<Figure size 1500x500 with 1 Axes>"
      ]
     },
     "metadata": {
      "image/png": {
       "height": 428,
       "width": 1209
      }
     },
     "output_type": "display_data"
    }
   ],
   "source": [
    "preds = preds.detach().numpy()\n",
    "plt.hist(preds[labels_val == True], bins=20, alpha=0.5, label=\"positives\")\n",
    "plt.hist(preds[labels_val == False], bins=20, alpha=0.5, label=\"negatives\")\n",
    "plt.legend()"
   ]
  },
  {
   "cell_type": "markdown",
   "metadata": {},
   "source": [
    "### simplifying training into a single function call\n",
    "\n",
    "We can use the .train() function to combine these steps into one line of code: the function first creates embeddings, then fits the shallow classifier using the embeddings and the labels. It also reports performance on the validation set. This function is designed to look very similar to the Opensoundscape.CNN.train() method, but note that it is doing something different: it begins by creating embeddings using the pre-trained model, and only trains the classification head, not the entire model architecture (the feature extraction layers remain unchanged). \n",
    "\n",
    "The advantage of taking each step separately (as shown above) is that once we create the embeddings, we can rapidly try fitting different shallow classifiers."
   ]
  },
  {
   "cell_type": "code",
   "execution_count": 14,
   "metadata": {},
   "outputs": [
    {
     "name": "stdout",
     "output_type": "stream",
     "text": [
      "Embedding the training samples without augmentation\n"
     ]
    },
    {
     "data": {
      "application/vnd.jupyter.widget-view+json": {
       "model_id": "5f93df7495a346498b740946ad81d322",
       "version_major": 2,
       "version_minor": 0
      },
      "text/plain": [
       "  0%|          | 0/12 [00:00<?, ?it/s]"
      ]
     },
     "metadata": {},
     "output_type": "display_data"
    },
    {
     "name": "stderr",
     "output_type": "stream",
     "text": [
      "/Users/SML161/bioacoustics-model-zoo/bioacoustics_model_zoo/bmz_birdset/bmz_birdset.py:31: UserWarning: \n",
      "The version_base parameter is not specified.\n",
      "Please specify a compatability version level, or None.\n",
      "Will assume defaults for version 1.1\n",
      "  hydra.initialize(config_path=\"configs\")  # relative to current working dir\n",
      "/Users/SML161/bioacoustics-model-zoo/bioacoustics_model_zoo/bmz_birdset/bmz_birdset.py:31: UserWarning: \n",
      "The version_base parameter is not specified.\n",
      "Please specify a compatability version level, or None.\n",
      "Will assume defaults for version 1.1\n",
      "  hydra.initialize(config_path=\"configs\")  # relative to current working dir\n",
      "/Users/SML161/bioacoustics-model-zoo/bioacoustics_model_zoo/bmz_birdset/bmz_birdset.py:31: UserWarning: \n",
      "The version_base parameter is not specified.\n",
      "Please specify a compatability version level, or None.\n",
      "Will assume defaults for version 1.1\n",
      "  hydra.initialize(config_path=\"configs\")  # relative to current working dir\n",
      "/Users/SML161/bioacoustics-model-zoo/bioacoustics_model_zoo/bmz_birdset/bmz_birdset.py:31: UserWarning: \n",
      "The version_base parameter is not specified.\n",
      "Please specify a compatability version level, or None.\n",
      "Will assume defaults for version 1.1\n",
      "  hydra.initialize(config_path=\"configs\")  # relative to current working dir\n"
     ]
    },
    {
     "name": "stdout",
     "output_type": "stream",
     "text": [
      "Embedding the validation samples\n"
     ]
    },
    {
     "data": {
      "application/vnd.jupyter.widget-view+json": {
       "model_id": "7c938f0e261d4d809ec6609100ccbd46",
       "version_major": 2,
       "version_minor": 0
      },
      "text/plain": [
       "  0%|          | 0/4 [00:00<?, ?it/s]"
      ]
     },
     "metadata": {},
     "output_type": "display_data"
    },
    {
     "name": "stderr",
     "output_type": "stream",
     "text": [
      "/Users/SML161/bioacoustics-model-zoo/bioacoustics_model_zoo/bmz_birdset/bmz_birdset.py:31: UserWarning: \n",
      "The version_base parameter is not specified.\n",
      "Please specify a compatability version level, or None.\n",
      "Will assume defaults for version 1.1\n",
      "  hydra.initialize(config_path=\"configs\")  # relative to current working dir\n",
      "/Users/SML161/bioacoustics-model-zoo/bioacoustics_model_zoo/bmz_birdset/bmz_birdset.py:31: UserWarning: \n",
      "The version_base parameter is not specified.\n",
      "Please specify a compatability version level, or None.\n",
      "Will assume defaults for version 1.1\n",
      "  hydra.initialize(config_path=\"configs\")  # relative to current working dir\n",
      "/Users/SML161/bioacoustics-model-zoo/bioacoustics_model_zoo/bmz_birdset/bmz_birdset.py:31: UserWarning: \n",
      "The version_base parameter is not specified.\n",
      "Please specify a compatability version level, or None.\n",
      "Will assume defaults for version 1.1\n",
      "  hydra.initialize(config_path=\"configs\")  # relative to current working dir\n",
      "/Users/SML161/bioacoustics-model-zoo/bioacoustics_model_zoo/bmz_birdset/bmz_birdset.py:31: UserWarning: \n",
      "The version_base parameter is not specified.\n",
      "Please specify a compatability version level, or None.\n",
      "Will assume defaults for version 1.1\n",
      "  hydra.initialize(config_path=\"configs\")  # relative to current working dir\n"
     ]
    },
    {
     "name": "stdout",
     "output_type": "stream",
     "text": [
      "Fitting the classifier\n",
      "Epoch 100/1000, Loss: 0.32648995518684387, Val Loss: 0.33605921268463135\n",
      "val AU ROC: 0.924\n",
      "val MAP: 0.820\n",
      "Epoch 200/1000, Loss: 0.28611692786216736, Val Loss: 0.32104530930519104\n",
      "val AU ROC: 0.927\n",
      "val MAP: 0.827\n",
      "Epoch 300/1000, Loss: 0.261658251285553, Val Loss: 0.3209640085697174\n",
      "val AU ROC: 0.925\n",
      "val MAP: 0.823\n"
     ]
    },
    {
     "name": "stderr",
     "output_type": "stream",
     "text": [
      "/Users/SML161/miniconda3/envs/bmz_dev/lib/python3.10/site-packages/opensoundscape/ml/shallow_classifier.py:110: UserWarning: To copy construct from a tensor, it is recommended to use sourceTensor.clone().detach() or sourceTensor.clone().detach().requires_grad_(True), rather than torch.tensor(sourceTensor).\n",
      "  train_features = torch.tensor(train_features, dtype=torch.float32, device=device)\n",
      "/Users/SML161/miniconda3/envs/bmz_dev/lib/python3.10/site-packages/opensoundscape/ml/shallow_classifier.py:111: UserWarning: To copy construct from a tensor, it is recommended to use sourceTensor.clone().detach() or sourceTensor.clone().detach().requires_grad_(True), rather than torch.tensor(sourceTensor).\n",
      "  train_labels = torch.tensor(train_labels, dtype=torch.float32, device=device)\n",
      "/Users/SML161/miniconda3/envs/bmz_dev/lib/python3.10/site-packages/opensoundscape/ml/shallow_classifier.py:115: UserWarning: To copy construct from a tensor, it is recommended to use sourceTensor.clone().detach() or sourceTensor.clone().detach().requires_grad_(True), rather than torch.tensor(sourceTensor).\n",
      "  validation_features = torch.tensor(\n",
      "/Users/SML161/miniconda3/envs/bmz_dev/lib/python3.10/site-packages/opensoundscape/ml/shallow_classifier.py:118: UserWarning: To copy construct from a tensor, it is recommended to use sourceTensor.clone().detach() or sourceTensor.clone().detach().requires_grad_(True), rather than torch.tensor(sourceTensor).\n",
      "  validation_labels = torch.tensor(\n"
     ]
    },
    {
     "name": "stdout",
     "output_type": "stream",
     "text": [
      "Epoch 400/1000, Loss: 0.24371474981307983, Val Loss: 0.3252239525318146\n",
      "val AU ROC: 0.921\n",
      "val MAP: 0.819\n",
      "Epoch 500/1000, Loss: 0.22906774282455444, Val Loss: 0.33060380816459656\n",
      "val AU ROC: 0.917\n",
      "val MAP: 0.816\n",
      "Epoch 600/1000, Loss: 0.21635054051876068, Val Loss: 0.33612900972366333\n",
      "val AU ROC: 0.913\n",
      "val MAP: 0.812\n",
      "Epoch 700/1000, Loss: 0.20493458211421967, Val Loss: 0.3416011929512024\n",
      "val AU ROC: 0.910\n",
      "val MAP: 0.809\n",
      "Epoch 800/1000, Loss: 0.1945018470287323, Val Loss: 0.3470570147037506\n",
      "val AU ROC: 0.907\n",
      "val MAP: 0.806\n",
      "Epoch 900/1000, Loss: 0.1848701536655426, Val Loss: 0.3525783121585846\n",
      "val AU ROC: 0.905\n",
      "val MAP: 0.803\n",
      "Epoch 1000/1000, Loss: 0.1759210079908371, Val Loss: 0.35823631286621094\n",
      "val AU ROC: 0.903\n",
      "val MAP: 0.801\n",
      "Training complete\n"
     ]
    }
   ],
   "source": [
    "birdnet.change_classes(classes)\n",
    "birdnet.train(\n",
    "    train_df=labels_train,\n",
    "    validation_df=labels_val,\n",
    "    embedding_batch_size=128,\n",
    "    embedding_num_workers=num_workers,\n",
    "    steps=1000,\n",
    ")"
   ]
  },
  {
   "cell_type": "markdown",
   "metadata": {},
   "source": [
    "### adjusting the shallow classifier architecture\n",
    "By default, we are training a single fully-connected neural network layer to map from the embeddings (feature vectors) to the class predictions, which is equivalent to logistic regression. We can easily modify the structure of the shallow classifier to a multi-layer network. For instance, let's make a 2-layer artificial neural network with a hidden layer of size (100,):"
   ]
  },
  {
   "cell_type": "code",
   "execution_count": 15,
   "metadata": {},
   "outputs": [
    {
     "name": "stdout",
     "output_type": "stream",
     "text": [
      "Embedding the training samples without augmentation\n"
     ]
    },
    {
     "data": {
      "application/vnd.jupyter.widget-view+json": {
       "model_id": "d2fa978381bd4132aa5b537b598efdd4",
       "version_major": 2,
       "version_minor": 0
      },
      "text/plain": [
       "  0%|          | 0/12 [00:00<?, ?it/s]"
      ]
     },
     "metadata": {},
     "output_type": "display_data"
    },
    {
     "name": "stderr",
     "output_type": "stream",
     "text": [
      "/Users/SML161/bioacoustics-model-zoo/bioacoustics_model_zoo/bmz_birdset/bmz_birdset.py:31: UserWarning: \n",
      "The version_base parameter is not specified.\n",
      "Please specify a compatability version level, or None.\n",
      "Will assume defaults for version 1.1\n",
      "  hydra.initialize(config_path=\"configs\")  # relative to current working dir\n",
      "/Users/SML161/bioacoustics-model-zoo/bioacoustics_model_zoo/bmz_birdset/bmz_birdset.py:31: UserWarning: \n",
      "The version_base parameter is not specified.\n",
      "Please specify a compatability version level, or None.\n",
      "Will assume defaults for version 1.1\n",
      "  hydra.initialize(config_path=\"configs\")  # relative to current working dir\n",
      "/Users/SML161/bioacoustics-model-zoo/bioacoustics_model_zoo/bmz_birdset/bmz_birdset.py:31: UserWarning: \n",
      "The version_base parameter is not specified.\n",
      "Please specify a compatability version level, or None.\n",
      "Will assume defaults for version 1.1\n",
      "  hydra.initialize(config_path=\"configs\")  # relative to current working dir\n",
      "/Users/SML161/bioacoustics-model-zoo/bioacoustics_model_zoo/bmz_birdset/bmz_birdset.py:31: UserWarning: \n",
      "The version_base parameter is not specified.\n",
      "Please specify a compatability version level, or None.\n",
      "Will assume defaults for version 1.1\n",
      "  hydra.initialize(config_path=\"configs\")  # relative to current working dir\n"
     ]
    },
    {
     "name": "stdout",
     "output_type": "stream",
     "text": [
      "Embedding the validation samples\n"
     ]
    },
    {
     "data": {
      "application/vnd.jupyter.widget-view+json": {
       "model_id": "b240751e821f471e8e90c322eb0aadca",
       "version_major": 2,
       "version_minor": 0
      },
      "text/plain": [
       "  0%|          | 0/4 [00:00<?, ?it/s]"
      ]
     },
     "metadata": {},
     "output_type": "display_data"
    },
    {
     "name": "stderr",
     "output_type": "stream",
     "text": [
      "/Users/SML161/bioacoustics-model-zoo/bioacoustics_model_zoo/bmz_birdset/bmz_birdset.py:31: UserWarning: \n",
      "The version_base parameter is not specified.\n",
      "Please specify a compatability version level, or None.\n",
      "Will assume defaults for version 1.1\n",
      "  hydra.initialize(config_path=\"configs\")  # relative to current working dir\n",
      "/Users/SML161/bioacoustics-model-zoo/bioacoustics_model_zoo/bmz_birdset/bmz_birdset.py:31: UserWarning: \n",
      "The version_base parameter is not specified.\n",
      "Please specify a compatability version level, or None.\n",
      "Will assume defaults for version 1.1\n",
      "  hydra.initialize(config_path=\"configs\")  # relative to current working dir\n",
      "/Users/SML161/bioacoustics-model-zoo/bioacoustics_model_zoo/bmz_birdset/bmz_birdset.py:31: UserWarning: \n",
      "The version_base parameter is not specified.\n",
      "Please specify a compatability version level, or None.\n",
      "Will assume defaults for version 1.1\n",
      "  hydra.initialize(config_path=\"configs\")  # relative to current working dir\n",
      "/Users/SML161/bioacoustics-model-zoo/bioacoustics_model_zoo/bmz_birdset/bmz_birdset.py:31: UserWarning: \n",
      "The version_base parameter is not specified.\n",
      "Please specify a compatability version level, or None.\n",
      "Will assume defaults for version 1.1\n",
      "  hydra.initialize(config_path=\"configs\")  # relative to current working dir\n"
     ]
    },
    {
     "name": "stdout",
     "output_type": "stream",
     "text": [
      "Fitting the classifier\n"
     ]
    },
    {
     "name": "stderr",
     "output_type": "stream",
     "text": [
      "/Users/SML161/miniconda3/envs/bmz_dev/lib/python3.10/site-packages/opensoundscape/ml/shallow_classifier.py:110: UserWarning: To copy construct from a tensor, it is recommended to use sourceTensor.clone().detach() or sourceTensor.clone().detach().requires_grad_(True), rather than torch.tensor(sourceTensor).\n",
      "  train_features = torch.tensor(train_features, dtype=torch.float32, device=device)\n",
      "/Users/SML161/miniconda3/envs/bmz_dev/lib/python3.10/site-packages/opensoundscape/ml/shallow_classifier.py:111: UserWarning: To copy construct from a tensor, it is recommended to use sourceTensor.clone().detach() or sourceTensor.clone().detach().requires_grad_(True), rather than torch.tensor(sourceTensor).\n",
      "  train_labels = torch.tensor(train_labels, dtype=torch.float32, device=device)\n",
      "/Users/SML161/miniconda3/envs/bmz_dev/lib/python3.10/site-packages/opensoundscape/ml/shallow_classifier.py:115: UserWarning: To copy construct from a tensor, it is recommended to use sourceTensor.clone().detach() or sourceTensor.clone().detach().requires_grad_(True), rather than torch.tensor(sourceTensor).\n",
      "  validation_features = torch.tensor(\n",
      "/Users/SML161/miniconda3/envs/bmz_dev/lib/python3.10/site-packages/opensoundscape/ml/shallow_classifier.py:118: UserWarning: To copy construct from a tensor, it is recommended to use sourceTensor.clone().detach() or sourceTensor.clone().detach().requires_grad_(True), rather than torch.tensor(sourceTensor).\n",
      "  validation_labels = torch.tensor(\n"
     ]
    },
    {
     "name": "stdout",
     "output_type": "stream",
     "text": [
      "Epoch 100/1000, Loss: 0.20317335426807404, Val Loss: 0.3276416063308716\n",
      "val AU ROC: 0.917\n",
      "val MAP: 0.812\n",
      "Epoch 200/1000, Loss: 0.08771011233329773, Val Loss: 0.41441991925239563\n",
      "val AU ROC: 0.900\n",
      "val MAP: 0.786\n",
      "Epoch 300/1000, Loss: 0.03732352703809738, Val Loss: 0.5476881861686707\n",
      "val AU ROC: 0.891\n",
      "val MAP: 0.774\n",
      "Epoch 400/1000, Loss: 0.017772164195775986, Val Loss: 0.676210343837738\n",
      "val AU ROC: 0.885\n",
      "val MAP: 0.764\n",
      "Epoch 500/1000, Loss: 0.009681718423962593, Val Loss: 0.7844258546829224\n",
      "val AU ROC: 0.881\n",
      "val MAP: 0.759\n",
      "Epoch 600/1000, Loss: 0.005957894027233124, Val Loss: 0.8703551888465881\n",
      "val AU ROC: 0.879\n",
      "val MAP: 0.756\n",
      "Epoch 700/1000, Loss: 0.003997490741312504, Val Loss: 0.9404857754707336\n",
      "val AU ROC: 0.878\n",
      "val MAP: 0.753\n",
      "Epoch 800/1000, Loss: 0.0028538918122649193, Val Loss: 0.9995662569999695\n",
      "val AU ROC: 0.877\n",
      "val MAP: 0.752\n",
      "Epoch 900/1000, Loss: 0.002132176188752055, Val Loss: 1.0502324104309082\n",
      "val AU ROC: 0.876\n",
      "val MAP: 0.752\n",
      "Epoch 1000/1000, Loss: 0.0016484222142025828, Val Loss: 1.0947118997573853\n",
      "val AU ROC: 0.876\n",
      "val MAP: 0.751\n",
      "Training complete\n"
     ]
    }
   ],
   "source": [
    "# replace the classification head with a 2-layer MLP (2 fully-connected layers)\n",
    "birdnet.initialize_custom_classifier(hidden_layer_sizes=[100], classes=classes)\n",
    "\n",
    "# train the classifier in one step: this function first creates embeddings, then fits the classification head\n",
    "birdnet.train(\n",
    "    train_df=labels_train,\n",
    "    validation_df=labels_val,\n",
    "    embedding_batch_size=128,\n",
    "    embedding_num_workers=num_workers,\n",
    "    steps=1000,\n",
    ")"
   ]
  },
  {
   "cell_type": "markdown",
   "metadata": {},
   "source": [
    "when we evaluate, we see that the performance of our two-layer classificaiton head on the validation set is slightly _worse_ than we got with a 1-layer classification head. This indicates that the two-layer model was over-parameterized, and was able to over-fit to the training data leading to worse generalization to the validation set. "
   ]
  },
  {
   "cell_type": "code",
   "execution_count": 16,
   "metadata": {},
   "outputs": [
    {
     "name": "stdout",
     "output_type": "stream",
     "text": [
      "auc roc score: 0.8759419152276294\n"
     ]
    },
    {
     "data": {
      "text/plain": [
       "<matplotlib.legend.Legend at 0x36534c580>"
      ]
     },
     "execution_count": 16,
     "metadata": {},
     "output_type": "execute_result"
    },
    {
     "data": {
      "image/png": "[encoded data removed]",
      "text/plain": [
       "<Figure size 1500x500 with 1 Axes>"
      ]
     },
     "metadata": {
      "image/png": {
       "height": 428,
       "width": 1209
      }
     },
     "output_type": "display_data"
    }
   ],
   "source": [
    "# make predictions by passing the embeddings through the classifier\n",
    "preds = birdnet.network(torch.tensor(emb_val)).detach()\n",
    "# calculate the area under the ROC score\n",
    "print(f\"auc roc score: {roc_auc_score(labels_val.values, preds, average=None)}\")\n",
    "\n",
    "# plot histograms\n",
    "preds = preds.detach().numpy()\n",
    "plt.hist(preds[labels_val == True], bins=20, alpha=0.5, label=\"positives\")\n",
    "plt.hist(preds[labels_val == False], bins=20, alpha=0.5, label=\"negatives\")\n",
    "plt.legend()"
   ]
  },
  {
   "cell_type": "markdown",
   "metadata": {},
   "source": [
    "### including variants of the training samples using augmentation\n",
    "Augmentation is a powerful technique for avoiding over-fitting and helping machine learning models generalize. The .predict() function gives us an option to perform stochastic augmentations of the training samples, thereby creating variations of the embeddings to increase the effective size of our training data. We use the `n_augmentation_variants` parameter to choose the number of variations: by default this parameter is 0 and no augmentation is performed. Here we choose to create 2 variations of each training sample using augmentation - in practice, it may be helpful to create 8 or more variations of each training sample, but note that the time to create the embeddings will be proportional to the number of variations you create. "
   ]
  },
  {
   "cell_type": "code",
   "execution_count": 17,
   "metadata": {},
   "outputs": [
    {
     "name": "stdout",
     "output_type": "stream",
     "text": [
      "Embedding the training samples 2 times with stochastic augmentation\n"
     ]
    },
    {
     "data": {
      "application/vnd.jupyter.widget-view+json": {
       "model_id": "43a3b29e51474ebe90bbad86565dfca2",
       "version_major": 2,
       "version_minor": 0
      },
      "text/plain": [
       "  0%|          | 0/2 [00:00<?, ?it/s]"
      ]
     },
     "metadata": {},
     "output_type": "display_data"
    },
    {
     "name": "stderr",
     "output_type": "stream",
     "text": [
      "/Users/SML161/bioacoustics-model-zoo/bioacoustics_model_zoo/bmz_birdset/bmz_birdset.py:31: UserWarning: \n",
      "The version_base parameter is not specified.\n",
      "Please specify a compatability version level, or None.\n",
      "Will assume defaults for version 1.1\n",
      "  hydra.initialize(config_path=\"configs\")  # relative to current working dir\n",
      "/Users/SML161/bioacoustics-model-zoo/bioacoustics_model_zoo/bmz_birdset/bmz_birdset.py:31: UserWarning: \n",
      "The version_base parameter is not specified.\n",
      "Please specify a compatability version level, or None.\n",
      "Will assume defaults for version 1.1\n",
      "  hydra.initialize(config_path=\"configs\")  # relative to current working dir\n",
      "/Users/SML161/bioacoustics-model-zoo/bioacoustics_model_zoo/bmz_birdset/bmz_birdset.py:31: UserWarning: \n",
      "The version_base parameter is not specified.\n",
      "Please specify a compatability version level, or None.\n",
      "Will assume defaults for version 1.1\n",
      "  hydra.initialize(config_path=\"configs\")  # relative to current working dir\n",
      "/Users/SML161/bioacoustics-model-zoo/bioacoustics_model_zoo/bmz_birdset/bmz_birdset.py:31: UserWarning: \n",
      "The version_base parameter is not specified.\n",
      "Please specify a compatability version level, or None.\n",
      "Will assume defaults for version 1.1\n",
      "  hydra.initialize(config_path=\"configs\")  # relative to current working dir\n",
      "/Users/SML161/bioacoustics-model-zoo/bioacoustics_model_zoo/bmz_birdset/bmz_birdset.py:31: UserWarning: \n",
      "The version_base parameter is not specified.\n",
      "Please specify a compatability version level, or None.\n",
      "Will assume defaults for version 1.1\n",
      "  hydra.initialize(config_path=\"configs\")  # relative to current working dir\n",
      "/Users/SML161/bioacoustics-model-zoo/bioacoustics_model_zoo/bmz_birdset/bmz_birdset.py:31: UserWarning: \n",
      "The version_base parameter is not specified.\n",
      "Please specify a compatability version level, or None.\n",
      "Will assume defaults for version 1.1\n",
      "  hydra.initialize(config_path=\"configs\")  # relative to current working dir\n",
      "/Users/SML161/bioacoustics-model-zoo/bioacoustics_model_zoo/bmz_birdset/bmz_birdset.py:31: UserWarning: \n",
      "The version_base parameter is not specified.\n",
      "Please specify a compatability version level, or None.\n",
      "Will assume defaults for version 1.1\n",
      "  hydra.initialize(config_path=\"configs\")  # relative to current working dir\n",
      "/Users/SML161/bioacoustics-model-zoo/bioacoustics_model_zoo/bmz_birdset/bmz_birdset.py:31: UserWarning: \n",
      "The version_base parameter is not specified.\n",
      "Please specify a compatability version level, or None.\n",
      "Will assume defaults for version 1.1\n",
      "  hydra.initialize(config_path=\"configs\")  # relative to current working dir\n"
     ]
    },
    {
     "name": "stdout",
     "output_type": "stream",
     "text": [
      "Embedding the validation samples\n"
     ]
    },
    {
     "data": {
      "application/vnd.jupyter.widget-view+json": {
       "model_id": "4787c274c310446884cbeeb9d01908a3",
       "version_major": 2,
       "version_minor": 0
      },
      "text/plain": [
       "  0%|          | 0/4 [00:00<?, ?it/s]"
      ]
     },
     "metadata": {},
     "output_type": "display_data"
    },
    {
     "name": "stderr",
     "output_type": "stream",
     "text": [
      "/Users/SML161/bioacoustics-model-zoo/bioacoustics_model_zoo/bmz_birdset/bmz_birdset.py:31: UserWarning: \n",
      "The version_base parameter is not specified.\n",
      "Please specify a compatability version level, or None.\n",
      "Will assume defaults for version 1.1\n",
      "  hydra.initialize(config_path=\"configs\")  # relative to current working dir\n",
      "/Users/SML161/bioacoustics-model-zoo/bioacoustics_model_zoo/bmz_birdset/bmz_birdset.py:31: UserWarning: \n",
      "The version_base parameter is not specified.\n",
      "Please specify a compatability version level, or None.\n",
      "Will assume defaults for version 1.1\n",
      "  hydra.initialize(config_path=\"configs\")  # relative to current working dir\n",
      "/Users/SML161/bioacoustics-model-zoo/bioacoustics_model_zoo/bmz_birdset/bmz_birdset.py:31: UserWarning: \n",
      "The version_base parameter is not specified.\n",
      "Please specify a compatability version level, or None.\n",
      "Will assume defaults for version 1.1\n",
      "  hydra.initialize(config_path=\"configs\")  # relative to current working dir\n",
      "/Users/SML161/bioacoustics-model-zoo/bioacoustics_model_zoo/bmz_birdset/bmz_birdset.py:31: UserWarning: \n",
      "The version_base parameter is not specified.\n",
      "Please specify a compatability version level, or None.\n",
      "Will assume defaults for version 1.1\n",
      "  hydra.initialize(config_path=\"configs\")  # relative to current working dir\n"
     ]
    },
    {
     "name": "stdout",
     "output_type": "stream",
     "text": [
      "Fitting the classifier\n",
      "Epoch 100/1000, Loss: 0.5135788917541504, Val Loss: 0.3661726713180542\n",
      "val AU ROC: 0.907\n",
      "val MAP: 0.797\n"
     ]
    },
    {
     "name": "stderr",
     "output_type": "stream",
     "text": [
      "/Users/SML161/miniconda3/envs/bmz_dev/lib/python3.10/site-packages/opensoundscape/ml/shallow_classifier.py:110: UserWarning: To copy construct from a tensor, it is recommended to use sourceTensor.clone().detach() or sourceTensor.clone().detach().requires_grad_(True), rather than torch.tensor(sourceTensor).\n",
      "  train_features = torch.tensor(train_features, dtype=torch.float32, device=device)\n",
      "/Users/SML161/miniconda3/envs/bmz_dev/lib/python3.10/site-packages/opensoundscape/ml/shallow_classifier.py:111: UserWarning: To copy construct from a tensor, it is recommended to use sourceTensor.clone().detach() or sourceTensor.clone().detach().requires_grad_(True), rather than torch.tensor(sourceTensor).\n",
      "  train_labels = torch.tensor(train_labels, dtype=torch.float32, device=device)\n",
      "/Users/SML161/miniconda3/envs/bmz_dev/lib/python3.10/site-packages/opensoundscape/ml/shallow_classifier.py:115: UserWarning: To copy construct from a tensor, it is recommended to use sourceTensor.clone().detach() or sourceTensor.clone().detach().requires_grad_(True), rather than torch.tensor(sourceTensor).\n",
      "  validation_features = torch.tensor(\n",
      "/Users/SML161/miniconda3/envs/bmz_dev/lib/python3.10/site-packages/opensoundscape/ml/shallow_classifier.py:118: UserWarning: To copy construct from a tensor, it is recommended to use sourceTensor.clone().detach() or sourceTensor.clone().detach().requires_grad_(True), rather than torch.tensor(sourceTensor).\n",
      "  validation_labels = torch.tensor(\n"
     ]
    },
    {
     "name": "stdout",
     "output_type": "stream",
     "text": [
      "Epoch 200/1000, Loss: 0.4875386655330658, Val Loss: 0.35220053791999817\n",
      "val AU ROC: 0.905\n",
      "val MAP: 0.798\n",
      "Epoch 300/1000, Loss: 0.4734073281288147, Val Loss: 0.35433337092399597\n",
      "val AU ROC: 0.902\n",
      "val MAP: 0.800\n",
      "Epoch 400/1000, Loss: 0.4627768397331238, Val Loss: 0.35949981212615967\n",
      "val AU ROC: 0.899\n",
      "val MAP: 0.798\n",
      "Epoch 500/1000, Loss: 0.45382460951805115, Val Loss: 0.3673207759857178\n",
      "val AU ROC: 0.896\n",
      "val MAP: 0.796\n",
      "Epoch 600/1000, Loss: 0.44590261578559875, Val Loss: 0.37762895226478577\n",
      "val AU ROC: 0.893\n",
      "val MAP: 0.793\n",
      "Epoch 700/1000, Loss: 0.4387069642543793, Val Loss: 0.38982853293418884\n",
      "val AU ROC: 0.889\n",
      "val MAP: 0.788\n",
      "Epoch 800/1000, Loss: 0.4320663809776306, Val Loss: 0.4031923711299896\n",
      "val AU ROC: 0.884\n",
      "val MAP: 0.781\n",
      "Epoch 900/1000, Loss: 0.4258716404438019, Val Loss: 0.4171155095100403\n",
      "val AU ROC: 0.880\n",
      "val MAP: 0.776\n",
      "Epoch 1000/1000, Loss: 0.420047402381897, Val Loss: 0.4312058091163635\n",
      "val AU ROC: 0.876\n",
      "val MAP: 0.770\n",
      "Training complete\n"
     ]
    }
   ],
   "source": [
    "# revert to a 1-layer classification head\n",
    "birdnet.initialize_custom_classifier(hidden_layer_sizes=[], classes=classes)\n",
    "birdnet.train(\n",
    "    train_df=labels_train,\n",
    "    validation_df=labels_val,\n",
    "    n_augmentation_variants=2,\n",
    "    embedding_batch_size=128,\n",
    "    embedding_num_workers=num_workers,\n",
    "    steps=1000,\n",
    ")"
   ]
  },
  {
   "cell_type": "markdown",
   "metadata": {},
   "source": [
    "### Saving and loading fine-tuned models\n",
    "We use the BirdNET.save(path) and BirdNET.load(path) functions to save and load models that include our custom classification heads. "
   ]
  },
  {
   "cell_type": "code",
   "execution_count": 18,
   "metadata": {},
   "outputs": [],
   "source": [
    "birdnet.save(\"./saved_custom_birdnet.model\")"
   ]
  },
  {
   "cell_type": "code",
   "execution_count": 19,
   "metadata": {},
   "outputs": [
    {
     "name": "stdout",
     "output_type": "stream",
     "text": [
      "File BirdNET_GLOBAL_6K_V2.4_Labels_af.txt already exists; skipping download.\n",
      "downloading model from URL...\n",
      "File BirdNET_GLOBAL_6K_V2.4_Model_FP16.tflite already exists; skipping download.\n"
     ]
    },
    {
     "name": "stderr",
     "output_type": "stream",
     "text": [
      "/Users/SML161/miniconda3/envs/bmz_dev/lib/python3.10/site-packages/opensoundscape/ml/cnn.py:628: UserWarning: \n",
      "                    This architecture is not listed in opensoundscape.ml.cnn_architectures.ARCH_DICT.\n",
      "                    It will not be available for loading after saving the model with .save() (unless using pickle=True). \n",
      "                    To make it re-loadable, define a function that generates the architecture from arguments: (n_classes, n_channels) \n",
      "                    then use opensoundscape.ml.cnn_architectures.register_architecture() to register the generating function.\n",
      "\n",
      "                    The function can also set the returned object's .constructor_name to the registered string key in ARCH_DICT\n",
      "                    to avoid this warning and ensure it is reloaded correctly by opensoundscape.ml.load_model().\n",
      "\n",
      "                    See opensoundscape.ml.cnn_architectures module for examples of constructor functions\n",
      "                    \n",
      "  warnings.warn(\n",
      "/Users/SML161/miniconda3/envs/bmz_dev/lib/python3.10/site-packages/opensoundscape/ml/cnn.py:652: UserWarning: Failed to detect expected # input channels of this architecture.Make sure your architecture expects the number of channels equal to `channels` argument 1). Pytorch architectures generally expect 3 channels by default.\n",
      "  warnings.warn(\n"
     ]
    },
    {
     "data": {
      "application/vnd.jupyter.widget-view+json": {
       "model_id": "90d5658ba319406aaaf08d811e7b753e",
       "version_major": 2,
       "version_minor": 0
      },
      "text/plain": [
       "  0%|          | 0/5 [00:00<?, ?it/s]"
      ]
     },
     "metadata": {},
     "output_type": "display_data"
    }
   ],
   "source": [
    "# reload the saved model later, perhaps in a different script or notebook:\n",
    "loaded_model = bmz.BirdNET.load(\"./saved_custom_birdnet.model\")\n",
    "\n",
    "# use the model to make predictions on a dataframe or on a list of audio files\n",
    "preds = loaded_model.predict(labels_val.head())"
   ]
  },
  {
   "cell_type": "markdown",
   "metadata": {},
   "source": [
    "## Train shallow classifier on Perch embeddings\n",
    "\n",
    "Training classifiers on Perch works the same way!\n",
    "\n",
    "Since Perch uses 5 second audio clips as inputs, we'll first re-generate clip labels for 5 second audio segments from the annotated _Rana sierrae_ dataset. \n",
    "\n",
    "As before, well just work on the 'A' type call for this example"
   ]
  },
  {
   "cell_type": "markdown",
   "metadata": {},
   "source": [
    "As with BirdNET (see examples above): \n",
    "\n",
    "- our `perch` model object with the custom classification head (which is an instance of the Perch class) can be saved with `perch.save(path)` and loaded with `reloaded_model=Perch.load(path)`.\n",
    "\n",
    "- we could perform the embedding and classifier fitting steps separately using `perch.embed(labels_val,...)` to create embeddings, then fit with `perch.network.fit(emb_train, labels_train.values, emb_val, labels_val.values)`"
   ]
  },
  {
   "cell_type": "code",
   "execution_count": 20,
   "metadata": {},
   "outputs": [],
   "source": [
    "labels = annotations.clip_labels(clip_duration=5, min_label_overlap=0.2)\n",
    "labels_train, labels_val = sklearn.model_selection.train_test_split(labels[[\"A\"]])"
   ]
  },
  {
   "cell_type": "markdown",
   "metadata": {},
   "source": [
    "#### Step 1: Get the Perch model from the Biaocoustics Model Zoo"
   ]
  },
  {
   "cell_type": "code",
   "execution_count": 21,
   "metadata": {},
   "outputs": [
    {
     "name": "stderr",
     "output_type": "stream",
     "text": [
      "/Users/SML161/miniconda3/envs/bmz_dev/lib/python3.10/site-packages/opensoundscape/ml/cnn.py:628: UserWarning: \n",
      "                    This architecture is not listed in opensoundscape.ml.cnn_architectures.ARCH_DICT.\n",
      "                    It will not be available for loading after saving the model with .save() (unless using pickle=True). \n",
      "                    To make it re-loadable, define a function that generates the architecture from arguments: (n_classes, n_channels) \n",
      "                    then use opensoundscape.ml.cnn_architectures.register_architecture() to register the generating function.\n",
      "\n",
      "                    The function can also set the returned object's .constructor_name to the registered string key in ARCH_DICT\n",
      "                    to avoid this warning and ensure it is reloaded correctly by opensoundscape.ml.load_model().\n",
      "\n",
      "                    See opensoundscape.ml.cnn_architectures module for examples of constructor functions\n",
      "                    \n",
      "  warnings.warn(\n",
      "/Users/SML161/miniconda3/envs/bmz_dev/lib/python3.10/site-packages/opensoundscape/ml/cnn.py:652: UserWarning: Failed to detect expected # input channels of this architecture.Make sure your architecture expects the number of channels equal to `channels` argument 1). Pytorch architectures generally expect 3 channels by default.\n",
      "  warnings.warn(\n"
     ]
    }
   ],
   "source": [
    "perch = bmz.Perch()"
   ]
  },
  {
   "cell_type": "markdown",
   "metadata": {},
   "source": [
    "#### Step 2: Train the shallow classifier on embeddings from the BirdNET pre-trained model\n",
    "\n",
    "We set up a 2-layer classification head (see details above) by running `initialize_custom_classifier` with one hidden layer.\n",
    "\n",
    "We also create 2  variants of each training sample with stochastic augmentation by setting `n_augmentation_variants=2`"
   ]
  },
  {
   "cell_type": "code",
   "execution_count": 22,
   "metadata": {},
   "outputs": [
    {
     "name": "stdout",
     "output_type": "stream",
     "text": [
      "Embedding the training samples 2 times with stochastic augmentation\n"
     ]
    },
    {
     "data": {
      "application/vnd.jupyter.widget-view+json": {
       "model_id": "a2f6ccf381b0484383d8ad9fec3137b0",
       "version_major": 2,
       "version_minor": 0
      },
      "text/plain": [
       "  0%|          | 0/2 [00:00<?, ?it/s]"
      ]
     },
     "metadata": {},
     "output_type": "display_data"
    },
    {
     "name": "stderr",
     "output_type": "stream",
     "text": [
      "/Users/SML161/bioacoustics-model-zoo/bioacoustics_model_zoo/bmz_birdset/bmz_birdset.py:31: UserWarning: \n",
      "The version_base parameter is not specified.\n",
      "Please specify a compatability version level, or None.\n",
      "Will assume defaults for version 1.1\n",
      "  hydra.initialize(config_path=\"configs\")  # relative to current working dir\n",
      "/Users/SML161/bioacoustics-model-zoo/bioacoustics_model_zoo/bmz_birdset/bmz_birdset.py:31: UserWarning: \n",
      "The version_base parameter is not specified.\n",
      "Please specify a compatability version level, or None.\n",
      "Will assume defaults for version 1.1\n",
      "  hydra.initialize(config_path=\"configs\")  # relative to current working dir\n",
      "/Users/SML161/bioacoustics-model-zoo/bioacoustics_model_zoo/bmz_birdset/bmz_birdset.py:31: UserWarning: \n",
      "The version_base parameter is not specified.\n",
      "Please specify a compatability version level, or None.\n",
      "Will assume defaults for version 1.1\n",
      "  hydra.initialize(config_path=\"configs\")  # relative to current working dir\n",
      "/Users/SML161/bioacoustics-model-zoo/bioacoustics_model_zoo/bmz_birdset/bmz_birdset.py:31: UserWarning: \n",
      "The version_base parameter is not specified.\n",
      "Please specify a compatability version level, or None.\n",
      "Will assume defaults for version 1.1\n",
      "  hydra.initialize(config_path=\"configs\")  # relative to current working dir\n",
      "2025-02-28 13:10:10.989948: I tensorflow/compiler/xla/service/service.cc:168] XLA service 0x6199729f0 initialized for platform Host (this does not guarantee that XLA will be used). Devices:\n",
      "2025-02-28 13:10:10.989980: I tensorflow/compiler/xla/service/service.cc:176]   StreamExecutor device (0): Host, Default Version\n",
      "2025-02-28 13:10:11.293335: I tensorflow/compiler/mlir/tensorflow/utils/dump_mlir_util.cc:269] disabling MLIR crash reproducer, set env var `MLIR_CRASH_REPRODUCER_DIRECTORY` to enable.\n",
      "2025-02-28 13:10:11.348921: W tensorflow/compiler/tf2xla/kernels/assert_op.cc:38] Ignoring Assert operator jax2tf_infer_fn_/assert_equal_1/Assert/AssertGuard/Assert\n",
      "2025-02-28 13:10:13.031148: I ./tensorflow/compiler/jit/device_compiler.h:186] Compiled cluster using XLA!  This line is logged at most once for the lifetime of the process.\n",
      "2025-02-28 13:10:13.057407: E ./tensorflow/compiler/xla/stream_executor/stream_executor_internal.h:124] SetPriority unimplemented for this stream.\n",
      "2025-02-28 13:13:15.567964: W tensorflow/compiler/tf2xla/kernels/assert_op.cc:38] Ignoring Assert operator jax2tf_infer_fn_/assert_equal_1/Assert/AssertGuard/Assert\n",
      "/Users/SML161/bioacoustics-model-zoo/bioacoustics_model_zoo/bmz_birdset/bmz_birdset.py:31: UserWarning: \n",
      "The version_base parameter is not specified.\n",
      "Please specify a compatability version level, or None.\n",
      "Will assume defaults for version 1.1\n",
      "  hydra.initialize(config_path=\"configs\")  # relative to current working dir\n",
      "/Users/SML161/bioacoustics-model-zoo/bioacoustics_model_zoo/bmz_birdset/bmz_birdset.py:31: UserWarning: \n",
      "The version_base parameter is not specified.\n",
      "Please specify a compatability version level, or None.\n",
      "Will assume defaults for version 1.1\n",
      "  hydra.initialize(config_path=\"configs\")  # relative to current working dir\n",
      "/Users/SML161/bioacoustics-model-zoo/bioacoustics_model_zoo/bmz_birdset/bmz_birdset.py:31: UserWarning: \n",
      "The version_base parameter is not specified.\n",
      "Please specify a compatability version level, or None.\n",
      "Will assume defaults for version 1.1\n",
      "  hydra.initialize(config_path=\"configs\")  # relative to current working dir\n",
      "/Users/SML161/bioacoustics-model-zoo/bioacoustics_model_zoo/bmz_birdset/bmz_birdset.py:31: UserWarning: \n",
      "The version_base parameter is not specified.\n",
      "Please specify a compatability version level, or None.\n",
      "Will assume defaults for version 1.1\n",
      "  hydra.initialize(config_path=\"configs\")  # relative to current working dir\n"
     ]
    },
    {
     "name": "stdout",
     "output_type": "stream",
     "text": [
      "Embedding the validation samples\n"
     ]
    },
    {
     "data": {
      "application/vnd.jupyter.widget-view+json": {
       "model_id": "5c2155854eb24833a2ae684fefe7e8cd",
       "version_major": 2,
       "version_minor": 0
      },
      "text/plain": [
       "  0%|          | 0/3 [00:00<?, ?it/s]"
      ]
     },
     "metadata": {},
     "output_type": "display_data"
    },
    {
     "name": "stderr",
     "output_type": "stream",
     "text": [
      "/Users/SML161/bioacoustics-model-zoo/bioacoustics_model_zoo/bmz_birdset/bmz_birdset.py:31: UserWarning: \n",
      "The version_base parameter is not specified.\n",
      "Please specify a compatability version level, or None.\n",
      "Will assume defaults for version 1.1\n",
      "  hydra.initialize(config_path=\"configs\")  # relative to current working dir\n",
      "/Users/SML161/bioacoustics-model-zoo/bioacoustics_model_zoo/bmz_birdset/bmz_birdset.py:31: UserWarning: \n",
      "The version_base parameter is not specified.\n",
      "Please specify a compatability version level, or None.\n",
      "Will assume defaults for version 1.1\n",
      "  hydra.initialize(config_path=\"configs\")  # relative to current working dir\n",
      "/Users/SML161/bioacoustics-model-zoo/bioacoustics_model_zoo/bmz_birdset/bmz_birdset.py:31: UserWarning: \n",
      "The version_base parameter is not specified.\n",
      "Please specify a compatability version level, or None.\n",
      "Will assume defaults for version 1.1\n",
      "  hydra.initialize(config_path=\"configs\")  # relative to current working dir\n",
      "/Users/SML161/bioacoustics-model-zoo/bioacoustics_model_zoo/bmz_birdset/bmz_birdset.py:31: UserWarning: \n",
      "The version_base parameter is not specified.\n",
      "Please specify a compatability version level, or None.\n",
      "Will assume defaults for version 1.1\n",
      "  hydra.initialize(config_path=\"configs\")  # relative to current working dir\n",
      "2025-02-28 13:18:32.133427: W tensorflow/compiler/tf2xla/kernels/assert_op.cc:38] Ignoring Assert operator jax2tf_infer_fn_/assert_equal_1/Assert/AssertGuard/Assert\n"
     ]
    },
    {
     "name": "stdout",
     "output_type": "stream",
     "text": [
      "Fitting the classifier\n"
     ]
    },
    {
     "name": "stderr",
     "output_type": "stream",
     "text": [
      "/Users/SML161/miniconda3/envs/bmz_dev/lib/python3.10/site-packages/opensoundscape/ml/shallow_classifier.py:110: UserWarning: To copy construct from a tensor, it is recommended to use sourceTensor.clone().detach() or sourceTensor.clone().detach().requires_grad_(True), rather than torch.tensor(sourceTensor).\n",
      "  train_features = torch.tensor(train_features, dtype=torch.float32, device=device)\n",
      "/Users/SML161/miniconda3/envs/bmz_dev/lib/python3.10/site-packages/opensoundscape/ml/shallow_classifier.py:111: UserWarning: To copy construct from a tensor, it is recommended to use sourceTensor.clone().detach() or sourceTensor.clone().detach().requires_grad_(True), rather than torch.tensor(sourceTensor).\n",
      "  train_labels = torch.tensor(train_labels, dtype=torch.float32, device=device)\n",
      "/Users/SML161/miniconda3/envs/bmz_dev/lib/python3.10/site-packages/opensoundscape/ml/shallow_classifier.py:115: UserWarning: To copy construct from a tensor, it is recommended to use sourceTensor.clone().detach() or sourceTensor.clone().detach().requires_grad_(True), rather than torch.tensor(sourceTensor).\n",
      "  validation_features = torch.tensor(\n",
      "/Users/SML161/miniconda3/envs/bmz_dev/lib/python3.10/site-packages/opensoundscape/ml/shallow_classifier.py:118: UserWarning: To copy construct from a tensor, it is recommended to use sourceTensor.clone().detach() or sourceTensor.clone().detach().requires_grad_(True), rather than torch.tensor(sourceTensor).\n",
      "  validation_labels = torch.tensor(\n"
     ]
    },
    {
     "name": "stdout",
     "output_type": "stream",
     "text": [
      "Epoch 100/1000, Loss: 0.5316789150238037, Val Loss: 0.4148135483264923\n",
      "val AU ROC: 0.896\n",
      "val MAP: 0.861\n",
      "Epoch 200/1000, Loss: 0.43417346477508545, Val Loss: 0.5465565919876099\n",
      "val AU ROC: 0.862\n",
      "val MAP: 0.821\n",
      "Epoch 300/1000, Loss: 0.37461817264556885, Val Loss: 0.6803321242332458\n",
      "val AU ROC: 0.852\n",
      "val MAP: 0.806\n",
      "Epoch 400/1000, Loss: 0.3334544599056244, Val Loss: 0.766981840133667\n",
      "val AU ROC: 0.851\n",
      "val MAP: 0.807\n",
      "Epoch 500/1000, Loss: 0.3015865385532379, Val Loss: 0.8464377522468567\n",
      "val AU ROC: 0.851\n",
      "val MAP: 0.805\n",
      "Epoch 600/1000, Loss: 0.2750724256038666, Val Loss: 0.9261505603790283\n",
      "val AU ROC: 0.848\n",
      "val MAP: 0.804\n",
      "Epoch 700/1000, Loss: 0.2510787546634674, Val Loss: 1.0035614967346191\n",
      "val AU ROC: 0.847\n",
      "val MAP: 0.800\n",
      "Epoch 800/1000, Loss: 0.23020820319652557, Val Loss: 1.080341100692749\n",
      "val AU ROC: 0.845\n",
      "val MAP: 0.798\n",
      "Epoch 900/1000, Loss: 0.21010051667690277, Val Loss: 1.1542035341262817\n",
      "val AU ROC: 0.844\n",
      "val MAP: 0.797\n",
      "Epoch 1000/1000, Loss: 0.19281427562236786, Val Loss: 1.2288612127304077\n",
      "val AU ROC: 0.843\n",
      "val MAP: 0.794\n",
      "Training complete\n"
     ]
    }
   ],
   "source": [
    "# define classes for your custom classifier\n",
    "perch.change_classes(classes)\n",
    "\n",
    "# replace the default 1-layer classification head with a 2-layer MLP (2 fully-connected layers)\n",
    "perch.initialize_custom_classifier(hidden_layer_sizes=[100], classes=classes)\n",
    "\n",
    "# train the classifier in one step: this function first creates embeddings, then fits the classification head\n",
    "perch.train(\n",
    "    train_df=labels_train,\n",
    "    validation_df=labels_val,\n",
    "    n_augmentation_variants=2,\n",
    "    embedding_batch_size=128,\n",
    "    embedding_num_workers=num_workers,\n",
    "    steps=1000,\n",
    ")"
   ]
  },
  {
   "cell_type": "markdown",
   "metadata": {},
   "source": [
    "#### Evaluate"
   ]
  },
  {
   "cell_type": "code",
   "execution_count": 29,
   "metadata": {},
   "outputs": [
    {
     "data": {
      "application/vnd.jupyter.widget-view+json": {
       "model_id": "700c0056cb8e4f5585f766c17bb957fd",
       "version_major": 2,
       "version_minor": 0
      },
      "text/plain": [
       "  0%|          | 0/11 [00:00<?, ?it/s]"
      ]
     },
     "metadata": {},
     "output_type": "display_data"
    },
    {
     "name": "stderr",
     "output_type": "stream",
     "text": [
      "/Users/SML161/bioacoustics-model-zoo/bioacoustics_model_zoo/bmz_birdset/bmz_birdset.py:31: UserWarning: \n",
      "The version_base parameter is not specified.\n",
      "Please specify a compatability version level, or None.\n",
      "Will assume defaults for version 1.1\n",
      "  hydra.initialize(config_path=\"configs\")  # relative to current working dir\n",
      "/Users/SML161/bioacoustics-model-zoo/bioacoustics_model_zoo/bmz_birdset/bmz_birdset.py:31: UserWarning: \n",
      "The version_base parameter is not specified.\n",
      "Please specify a compatability version level, or None.\n",
      "Will assume defaults for version 1.1\n",
      "  hydra.initialize(config_path=\"configs\")  # relative to current working dir\n",
      "/Users/SML161/bioacoustics-model-zoo/bioacoustics_model_zoo/bmz_birdset/bmz_birdset.py:31: UserWarning: \n",
      "The version_base parameter is not specified.\n",
      "Please specify a compatability version level, or None.\n",
      "Will assume defaults for version 1.1\n",
      "  hydra.initialize(config_path=\"configs\")  # relative to current working dir\n",
      "/Users/SML161/bioacoustics-model-zoo/bioacoustics_model_zoo/bmz_birdset/bmz_birdset.py:31: UserWarning: \n",
      "The version_base parameter is not specified.\n",
      "Please specify a compatability version level, or None.\n",
      "Will assume defaults for version 1.1\n",
      "  hydra.initialize(config_path=\"configs\")  # relative to current working dir\n",
      "2025-02-28 13:42:07.829458: W tensorflow/compiler/tf2xla/kernels/assert_op.cc:38] Ignoring Assert operator jax2tf_infer_fn_/assert_equal_1/Assert/AssertGuard/Assert\n",
      "2025-02-28 13:43:36.896482: W tensorflow/compiler/tf2xla/kernels/assert_op.cc:38] Ignoring Assert operator jax2tf_infer_fn_/assert_equal_1/Assert/AssertGuard/Assert\n"
     ]
    },
    {
     "data": {
      "text/plain": [
       "0.5410262993801123"
      ]
     },
     "execution_count": 29,
     "metadata": {},
     "output_type": "execute_result"
    },
    {
     "data": {
      "image/png": "[encoded data removed]",
      "text/plain": [
       "<Figure size 1500x500 with 1 Axes>"
      ]
     },
     "metadata": {
      "image/png": {
       "height": 428,
       "width": 1209
      }
     },
     "output_type": "display_data"
    }
   ],
   "source": [
    "# make predictions by passing the embeddings through the classifier\n",
    "preds = perch.predict(labels_val, batch_size=32, num_workers=num_workers)\n",
    "\n",
    "# Note: if we already have the embeddings, we could have created epredictions much more quickly by running\n",
    "# perch.network(torch.tensor(val_embeddings.float()))\n",
    "\n",
    "# plot histogram of scores for positive and negative clips\n",
    "plt.hist(preds[labels_val == True], bins=20, alpha=0.5, label=\"positives\")\n",
    "plt.hist(preds[labels_val == False], bins=20, alpha=0.5, label=\"negatives\")\n",
    "plt.legend()\n",
    "\n",
    "# calculate the area under the ROC score\n",
    "roc_auc_score(labels_val.values, preds, average=None)"
   ]
  },
  {
   "cell_type": "markdown",
   "metadata": {},
   "source": [
    "## Variations on training\n",
    "\n",
    "OpenSoundscape also provides tools to generate embeddings for augmented variations of the input samples (`opensoundscape.shallow_classifier.augmented_embed()`), which could improve the classifiers performance and generalizability. See the transfer learning tutorial for further examples of this and other workflows. \n",
    "\n",
    "Here are a few other tools from the `shallow_classifiers` module to check out:\n",
    "\n",
    "- augmented_embed(): generate embeddings for each sample multiple times, with stochastic augmentation on the audio clips\n",
    "\n",
    "- fit_classifier_on_embeddings(): this function wraps together the embedding step with the classifier fitting step into a single operation, with support for generating augmented variations of training samples. It returns the embeddings and labels, in case you want to train additional classifiers on them\n",
    "\n",
    "- MLPClassifier: this class creates a neural network with one or more fully connected layers. This object can be trained by passing it to quick_fit() or fit_classifier_on_embeddings(), or by running the MLPClassifier.fit() method (equivalent to quick_fit()). The input size should match the embedding size of the embedding model, and the output size should match the number of classes your model predicts on. "
   ]
  }
 ],
 "metadata": {
  "kernelspec": {
   "display_name": "bmz_dev",
   "language": "python",
   "name": "python3"
  },
  "language_info": {
   "codemirror_mode": {
    "name": "ipython",
    "version": 3
   },
   "file_extension": ".py",
   "mimetype": "text/x-python",
   "name": "python",
   "nbconvert_exporter": "python",
   "pygments_lexer": "ipython3",
   "version": "3.10.14"
  }
 },
 "nbformat": 4,
 "nbformat_minor": 2
}
