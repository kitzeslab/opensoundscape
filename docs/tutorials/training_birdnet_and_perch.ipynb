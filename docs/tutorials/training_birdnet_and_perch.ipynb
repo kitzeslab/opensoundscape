{
 "cells": [
  {
   "cell_type": "markdown",
   "metadata": {},
   "source": [
    "# Train classifiers on BirdNET or Perch embeddings\n",
    "\n",
    "This notebook shows examples of how to train simple one-layer or multi-layer fully-connected neural networks (aka multi-layer perceptron networks, MLPs) on Perch [1] and BirdNET [2], which are TensorFlow models. For a more general introduction to transfer learning tools in OpenSoundscape see the `transfer_learning.ipynb` notebook, which focuses on PyTorch (rather than Tensorflow) embedding models. \n",
    "\n",
    "Though BirdNET and Perch are TensorFlow models, we can still use them as feature extractors (to generate embeddings) and train shallow classifiers on top of them with PyTorch. We just won't be able to train the feature extractor weights at all. \n",
    "\n",
    "For this notebook, you'll need a Python environment with `tensorflow` and `tensorflow-hub` packages installed. If you want cuda gpu acceleration on a linux machine, check this [table](https://www.tensorflow.org/install/source#gpu) for the `tensorflow` and `cudnn` package versions you'll need to be compatible with your current CUDA version (you can check the cuda version on your machine by calling `nvidia-smi` from command line). Note that the `cudnn` package version might conflict with which version PyTorch wants, so we recommend creating separate Python environments for pytorch and tensorflow cuda-compatability. \n",
    "\n",
    "Note that in this tutorial, all classifiers are trained as multi-target (each class is predicted independently, such that any sample can have 0, 1, or >1 classes present). Most bioacoustics classification tasks are multi-target. \n",
    "\n",
    "\n",
    "> Note on Error \"module not found: bioacoustics_model_zoo\" when using multiprocessing (num_workers>0):\n",
    "if you get an error to this effect, please install the bioacoustics_model_zoo as a package in your python environment:\n",
    "> `pip install git+https://github.com/kitzeslab/bioacoustics-model-zoo@0.11.0.dev1`\n",
    "> as the torch.hub api seems to have trouble with multiprocessing for some model classes. \n",
    "\n",
    "\n",
    "[1] Ghani, B., T. Denton, S. Kahl, H. Klinck, T. Denton, S. Kahl, and H. Klinck. 2023. Global birdsong embeddings enable superior transfer learning for bioacoustic classification. Scientific Reports 13:22876.\n",
    "\n",
    "[2] Kahl, Stefan, et al. \"BirdNET: A deep learning solution for avian diversity monitoring.\" Ecological Informatics 61 (2021): 101236.\n"
   ]
  },
  {
   "cell_type": "markdown",
   "metadata": {},
   "source": [
    "## Run this tutorial\n",
    "\n",
    "This tutorial is more than a reference! It's a Jupyter Notebook which you can run and modify on Google Colab or your own computer.\n",
    "\n",
    "|Link to tutorial|How to run tutorial|\n",
    "| :- | :- |\n",
    "| [![Open In Colab](https://colab.research.google.com/assets/colab-badge.svg)](https://colab.research.google.com/github/kitzeslab/opensoundscape/blob/master/docs/tutorials/train_cnn.ipynb) | The link opens the tutorial in Google Colab. Uncomment the \"installation\" line in the first cell to install OpenSoundscape. |\n",
    "| [![Download via DownGit](https://img.shields.io/badge/GitHub-Download-teal?logo=github)](https://minhaskamal.github.io/DownGit/#/home?url=https://github.com/kitzeslab/opensoundscape/blob/master/docs/tutorials/train_cnn.ipynb) | The link downloads the tutorial file to your computer. Follow the [Jupyter installation instructions](https://opensoundscape.org/en/latest/installation/jupyter.html), then open the tutorial file in Jupyter. |"
   ]
  },
  {
   "cell_type": "code",
   "execution_count": 1,
   "metadata": {},
   "outputs": [],
   "source": [
    "# if this is a Google Colab notebook, install opensoundscape in the runtime environment\n",
    "if 'google.colab' in str(get_ipython()):\n",
    "  %pip install git+https://github.com/kitzeslab/opensoundscape@develop ipykernel==5.5.6 ipython==7.34.0 pillow==9.4.0\n",
    "  num_workers=0\n",
    "else:\n",
    "  num_workers=4"
   ]
  },
  {
   "cell_type": "markdown",
   "metadata": {},
   "source": [
    "## Setup"
   ]
  },
  {
   "cell_type": "markdown",
   "metadata": {},
   "source": [
    "### Import needed packages"
   ]
  },
  {
   "cell_type": "code",
   "execution_count": 2,
   "metadata": {},
   "outputs": [
    {
     "name": "stderr",
     "output_type": "stream",
     "text": [
      "/var/folders/d8/265wdp1n0bn_r85dh3pp95fh0000gq/T/ipykernel_14108/4234765199.py:10: TqdmExperimentalWarning: Using `tqdm.autonotebook.tqdm` in notebook mode. Use `tqdm.tqdm` instead to force console mode (e.g. in jupyter console)\n",
      "  from tqdm.autonotebook import tqdm\n"
     ]
    }
   ],
   "source": [
    "import torch\n",
    "import pandas as pd\n",
    "from pathlib import Path\n",
    "import numpy as np\n",
    "import pandas as pd\n",
    "import random \n",
    "from glob import glob\n",
    "import sklearn\n",
    "\n",
    "from tqdm.autonotebook import tqdm\n",
    "from sklearn.metrics import average_precision_score, roc_auc_score\n",
    "from pathlib import Path\n",
    "\n",
    "#set up plotting\n",
    "from matplotlib import pyplot as plt\n",
    "plt.rcParams['figure.figsize']=[15,5] #for large visuals\n",
    "%config InlineBackend.figure_format = 'retina'\n",
    "\n",
    "# opensoundscape transfer learning tools\n",
    "from opensoundscape.ml.shallow_classifier import MLPClassifier, quick_fit, fit_classifier_on_embeddings\n"
   ]
  },
  {
   "cell_type": "markdown",
   "metadata": {},
   "source": [
    "### Set random seeds\n",
    "\n",
    "Set manual seeds for Pytorch and Python. These essentially \"fix\" the results of any stochastic steps in model training, ensuring that training results are reproducible. You probably don't want to do this when you actually train your model, but it's useful for debugging."
   ]
  },
  {
   "cell_type": "code",
   "execution_count": 3,
   "metadata": {},
   "outputs": [],
   "source": [
    "torch.manual_seed(0)\n",
    "random.seed(0)\n",
    "np.random.seed(0)"
   ]
  },
  {
   "cell_type": "markdown",
   "metadata": {},
   "source": [
    "### Download and prepare training data\n"
   ]
  },
  {
   "cell_type": "markdown",
   "metadata": {},
   "source": [
    "#### Download example files\n",
    "Download a set of aquatic soundscape recordings with annotations of _Rana sierrae_ vocalizations. If you already have them, you can skip this step. \n",
    "\n",
    "Option 1: run the cell below\n",
    "\n",
    "- if you get a 403 error, DataDryad suspects you are a bot. Use Option 2. \n",
    "\n",
    "Option 2:\n",
    "\n",
    "- Download and unzip the `rana_sierrae_2022.zip` folder containing audio and annotations from this [public Dryad dataset](https://datadryad.org/stash/dataset/doi:10.5061/dryad.9s4mw6mn3#readme)\n",
    "- Move the unzipped `rana_sierrae_2022` folder into the current folder"
   ]
  },
  {
   "cell_type": "code",
   "execution_count": 4,
   "metadata": {},
   "outputs": [
    {
     "name": "stdout",
     "output_type": "stream",
     "text": [
      "--2024-10-08 13:34:24--  https://datadryad.org/stash/downloads/file_stream/2722802\n",
      "Resolving datadryad.org (datadryad.org)... 52.36.117.254, 34.211.245.249, 35.82.66.187, ...\n",
      "Connecting to datadryad.org (datadryad.org)|52.36.117.254|:443... connected.\n",
      "HTTP request sent, awaiting response... 403 Forbidden\n",
      "2024-10-08 13:34:24 ERROR 403: Forbidden.\n",
      "\n",
      "Archive:  rana_sierrae_2022.zip\n",
      "  End-of-central-directory signature not found.  Either this file is not\n",
      "  a zipfile, or it constitutes one disk of a multi-part archive.  In the\n",
      "  latter case the central directory and zipfile comment will be found on\n",
      "  the last disk(s) of this archive.\n",
      "Archive:  rana_sierrae_2022.ZIP\n",
      "  End-of-central-directory signature not found.  Either this file is not\n",
      "  a zipfile, or it constitutes one disk of a multi-part archive.  In the\n",
      "  latter case the central directory and zipfile comment will be found on\n",
      "  the last disk(s) of this archive.\n"
     ]
    }
   ],
   "source": [
    "# Note: the \"!\" preceding each line below allows us to run bash commands in a Jupyter notebook\n",
    "# If you are not running this code in a notebook, input these commands into your terminal instead\n",
    "!wget -O rana_sierrae_2022.zip https://datadryad.org/stash/downloads/file_stream/2722802;\n",
    "!unzip rana_sierrae_2022;"
   ]
  },
  {
   "cell_type": "markdown",
   "metadata": {},
   "source": [
    "#### Prepare audio data\n",
    "See the train_cnn.ipynb tutorial for step-by-step walkthrough of this process, or just run the cells below to prepare a trainig set."
   ]
  },
  {
   "cell_type": "code",
   "execution_count": 5,
   "metadata": {},
   "outputs": [],
   "source": [
    "# Set the current directory to where the folder `rana_sierrae_2022` is located:\n",
    "dataset_path = Path(\"./rana_sierrae_2022/\")\n",
    "\n",
    "# let's generate clip labels of 5s duration (to match Perch input duration) using the raven annotations\n",
    "# and some utility functions from opensoundscape\n",
    "from opensoundscape.annotations import BoxedAnnotations\n",
    "audio_and_raven_files = pd.read_csv(f\"{dataset_path}/audio_and_raven_files.csv\")\n",
    "# update the paths to where we have the audio and raven files stored\n",
    "audio_and_raven_files['audio'] = audio_and_raven_files['audio'].apply(lambda x: f\"{dataset_path}/{x}\")\n",
    "audio_and_raven_files['raven'] = audio_and_raven_files['raven'].apply(lambda x: f\"{dataset_path}/{x}\")\n",
    "\n",
    "annotations = BoxedAnnotations.from_raven_files(raven_files=audio_and_raven_files['raven'], audio_files=audio_and_raven_files['audio'],annotation_column='annotation')\n",
    "# generate labels for 5s clips, including any labels that overlap by at least 0.2 seconds\n",
    "labels = annotations.clip_labels(clip_duration=3,min_label_overlap=0.2)"
   ]
  },
  {
   "cell_type": "markdown",
   "metadata": {},
   "source": [
    "#### Inspect labels\n",
    "\n",
    "Count number of each annotation type: \n",
    "\n",
    "Note that the 'X' label is for when the annotator was uncertain about the identity of a call. Labels A-E denote distinct call types."
   ]
  },
  {
   "cell_type": "code",
   "execution_count": 6,
   "metadata": {},
   "outputs": [
    {
     "data": {
      "text/plain": [
       "A    585\n",
       "E    154\n",
       "D     61\n",
       "B     22\n",
       "C     91\n",
       "X    120\n",
       "dtype: int64"
      ]
     },
     "execution_count": 6,
     "metadata": {},
     "output_type": "execute_result"
    }
   ],
   "source": [
    "labels.sum()"
   ]
  },
  {
   "cell_type": "markdown",
   "metadata": {},
   "source": [
    "#### split into training and validation data\n",
    "We'll just focus on class 'A', the call type with the most annotations. We'll randomly split the clips into training and validation data, acknowledging that this approach does not test the ability of the model to generalize. Since the samples in the training and validation sets could be adjascent 2-second audio clips, good performance could simply mean the model has memorized the training samples, and the validation set has very similar samples. "
   ]
  },
  {
   "cell_type": "code",
   "execution_count": 7,
   "metadata": {},
   "outputs": [],
   "source": [
    "labels_train, labels_val = sklearn.model_selection.train_test_split(labels[['A']])"
   ]
  },
  {
   "cell_type": "markdown",
   "metadata": {},
   "source": [
    "## Train classification head on BirdNET\n",
    "\n",
    "The BirdNET and Perch models provided in the Bioacoustics Model Zoo have a `.tf_model` attribute containing the TensorFlow inference model and a `.network` attribute containing a trainable PyTorch classification head, specifically an instance of the MLPCLassifier class. To train a custom classifier on the embeddings extracted by these models, we just need to (1) embed the training and validation samples, then (2) pass the embeddings and labels to the `.network.fit()` method. \n",
    "\n",
    "This is equivalent to passing the `.netowork` to the the `opensoundscape.ml.shallow_classifier.quick_fit()` method, so you can also experiment with generating your own classification heads (e.g. various instances of MLPClassifier) and fitting each of them on the embeddings. See the transfer learning tutorial for further examples. "
   ]
  },
  {
   "cell_type": "markdown",
   "metadata": {},
   "source": [
    "#### First, get BirdNET from the Bioacoustics Model Zoo"
   ]
  },
  {
   "cell_type": "code",
   "execution_count": 8,
   "metadata": {},
   "outputs": [
    {
     "name": "stderr",
     "output_type": "stream",
     "text": [
      "Downloading: \"https://github.com/kitzeslab/bioacoustics-model-zoo/zipball/0.11.0.dev1\" to /Users/SML161/.cache/torch/hub/0.11.0.dev1.zip\n"
     ]
    },
    {
     "name": "stdout",
     "output_type": "stream",
     "text": [
      "File BirdNET_GLOBAL_6K_V2.4_Labels_af.txt already exists; skipping download.\n",
      "downloading model from URL...\n",
      "File BirdNET_GLOBAL_6K_V2.4_Model_FP16.tflite already exists; skipping download.\n"
     ]
    },
    {
     "name": "stderr",
     "output_type": "stream",
     "text": [
      "/Users/SML161/miniconda3/envs/tensorflow/lib/python3.9/site-packages/opensoundscape/ml/cnn.py:621: UserWarning: \n",
      "                    This architecture is not listed in opensoundscape.ml.cnn_architectures.ARCH_DICT.\n",
      "                    It will not be available for loading after saving the model with .save() (unless using pickle=True). \n",
      "                    To make it re-loadable, define a function that generates the architecture from arguments: (n_classes, n_channels) \n",
      "                    then use opensoundscape.ml.cnn_architectures.register_architecture() to register the generating function.\n",
      "\n",
      "                    The function can also set the returned object's .constructor_name to the registered string key in ARCH_DICT\n",
      "                    to avoid this warning and ensure it is reloaded correctly by opensoundscape.ml.load_model().\n",
      "\n",
      "                    See opensoundscape.ml.cnn_architectures module for examples of constructor functions\n",
      "                    \n",
      "  warnings.warn(\n",
      "/Users/SML161/miniconda3/envs/tensorflow/lib/python3.9/site-packages/opensoundscape/ml/cnn.py:645: UserWarning: Failed to detect expected # input channels of this architecture.Make sure your architecture expects the number of channels equal to `channels` argument 1). Pytorch architectures generally expect 3 channels by default.\n",
      "  warnings.warn(\n",
      "INFO: Created TensorFlow Lite XNNPACK delegate for CPU.\n"
     ]
    }
   ],
   "source": [
    "from opensoundscape.ml import bioacoustics_model_zoo as bmz\n",
    "birdnet = bmz.load('BirdNET')"
   ]
  },
  {
   "cell_type": "markdown",
   "metadata": {},
   "source": [
    "In general, generating embeddings will take a bit of time (because it requires loading, preprocessing, and embedding samples) but training shallow classifiers will be fast. "
   ]
  },
  {
   "cell_type": "markdown",
   "metadata": {},
   "source": [
    "#### Second, generate embeddings on the training and validation samples"
   ]
  },
  {
   "cell_type": "code",
   "execution_count": 9,
   "metadata": {},
   "outputs": [
    {
     "data": {
      "application/vnd.jupyter.widget-view+json": {
       "model_id": "01fede29e83d4b34bab5d1fb969bf1f1",
       "version_major": 2,
       "version_minor": 0
      },
      "text/plain": [
       "  0%|          | 0/12 [00:00<?, ?it/s]"
      ]
     },
     "metadata": {},
     "output_type": "display_data"
    },
    {
     "data": {
      "application/vnd.jupyter.widget-view+json": {
       "model_id": "d5ac61c811fa43babe948420b988ac19",
       "version_major": 2,
       "version_minor": 0
      },
      "text/plain": [
       "  0%|          | 0/4 [00:00<?, ?it/s]"
      ]
     },
     "metadata": {},
     "output_type": "display_data"
    }
   ],
   "source": [
    "emb_train = birdnet.embed(labels_train, return_dfs=False, batch_size=128, num_workers=0)\n",
    "emb_val = birdnet.embed(labels_val, return_dfs=False, batch_size=128, num_workers=0)"
   ]
  },
  {
   "cell_type": "markdown",
   "metadata": {},
   "source": [
    "#### Third, fit the shallow classifier on the desired classes"
   ]
  },
  {
   "cell_type": "code",
   "execution_count": 10,
   "metadata": {},
   "outputs": [
    {
     "name": "stdout",
     "output_type": "stream",
     "text": [
      "Epoch 100/1000, Loss: 0.33055105805397034, Val Loss: 0.3374572694301605\n",
      "val AU ROC: 0.823\n",
      "val MAP: 0.823\n",
      "Epoch 200/1000, Loss: 0.2898256480693817, Val Loss: 0.32127392292022705\n",
      "val AU ROC: 0.828\n",
      "val MAP: 0.828\n",
      "Epoch 300/1000, Loss: 0.26516634225845337, Val Loss: 0.32036998867988586\n",
      "val AU ROC: 0.827\n",
      "val MAP: 0.827\n",
      "Epoch 400/1000, Loss: 0.24709735810756683, Val Loss: 0.324081689119339\n",
      "val AU ROC: 0.821\n",
      "val MAP: 0.821\n",
      "Epoch 500/1000, Loss: 0.23241737484931946, Val Loss: 0.3291389048099518\n",
      "val AU ROC: 0.818\n",
      "val MAP: 0.818\n",
      "Epoch 600/1000, Loss: 0.21972905099391937, Val Loss: 0.3344644606113434\n",
      "val AU ROC: 0.813\n",
      "val MAP: 0.813\n",
      "Epoch 700/1000, Loss: 0.2083706259727478, Val Loss: 0.33978548645973206\n",
      "val AU ROC: 0.810\n",
      "val MAP: 0.810\n",
      "Epoch 800/1000, Loss: 0.19800186157226562, Val Loss: 0.34509751200675964\n",
      "val AU ROC: 0.807\n",
      "val MAP: 0.807\n",
      "Epoch 900/1000, Loss: 0.18842820823192596, Val Loss: 0.35046273469924927\n",
      "val AU ROC: 0.804\n",
      "val MAP: 0.804\n",
      "Epoch 1000/1000, Loss: 0.1795252412557602, Val Loss: 0.35594499111175537\n",
      "val AU ROC: 0.802\n",
      "val MAP: 0.802\n",
      "Training complete\n"
     ]
    }
   ],
   "source": [
    "# We want to train the classifier on the 'A' class here, corresponding to the primary R. sierrae call type. \n",
    "# Let's replace fc output layer with 1-output layer for class 'A'\n",
    "classes = ['A']\n",
    "birdnet.change_classes(classes) \n",
    "\n",
    "# fit the classification head with embeddings and labels\n",
    "birdnet.network.fit(emb_train, labels_train.values, emb_val, labels_val.values)"
   ]
  },
  {
   "cell_type": "markdown",
   "metadata": {},
   "source": [
    "#### Fourth, evaluate the classifier on the validation set"
   ]
  },
  {
   "cell_type": "code",
   "execution_count": 11,
   "metadata": {},
   "outputs": [
    {
     "data": {
      "text/plain": [
       "0.904199372056515"
      ]
     },
     "execution_count": 11,
     "metadata": {},
     "output_type": "execute_result"
    }
   ],
   "source": [
    "# make predictions by passing the embeddings through the classifier\n",
    "preds = birdnet.network(torch.tensor(emb_val)).detach()\n",
    "# calculate the area under the ROC score\n",
    "roc_auc_score(labels_val.values,preds,average=None)"
   ]
  },
  {
   "cell_type": "markdown",
   "metadata": {},
   "source": [
    "to visualize the performance, let's plot histograms of classifier logit scores for positive and negative samples\n",
    "\n",
    "it shows that precision is ok for scores above 2 (few negatives get high scores), but recall is only moderate (many positive samples get low scores)"
   ]
  },
  {
   "cell_type": "code",
   "execution_count": 12,
   "metadata": {},
   "outputs": [
    {
     "name": "stderr",
     "output_type": "stream",
     "text": [
      "/Users/SML161/miniconda3/envs/tensorflow/lib/python3.9/site-packages/matplotlib_inline/config.py:68: DeprecationWarning: InlineBackend._figure_format_changed is deprecated in traitlets 4.1: use @observe and @unobserve instead.\n",
      "  def _figure_format_changed(self, name, old, new):\n"
     ]
    },
    {
     "data": {
      "text/plain": [
       "<matplotlib.legend.Legend at 0x2df4ef160>"
      ]
     },
     "execution_count": 12,
     "metadata": {},
     "output_type": "execute_result"
    },
    {
     "data": {
      "image/png": "[encoded data removed]",
      "text/plain": [
       "<Figure size 1500x500 with 1 Axes>"
      ]
     },
     "metadata": {
      "image/png": {
       "height": 428,
       "width": 1209
      }
     },
     "output_type": "display_data"
    }
   ],
   "source": [
    "preds = preds.detach().numpy()\n",
    "plt.hist(preds[labels_val==True],bins=20,alpha=0.5,label='positives')\n",
    "plt.hist(preds[labels_val==False],bins=20,alpha=0.5,label='negatives')\n",
    "plt.legend()"
   ]
  },
  {
   "cell_type": "markdown",
   "metadata": {},
   "source": [
    "## Train shallow classifier on Perch embeddings\n",
    "\n",
    "Training classifiers on Perch works the same way!\n",
    "\n",
    "Since Perch uses 5 second audio clips as inputs, we'll first re-generate clip labels for 5 second audio segments from the annotated _Rana sierrae_ dataset. \n",
    "\n",
    "As before, well just work on the 'A' type call for this example"
   ]
  },
  {
   "cell_type": "markdown",
   "metadata": {},
   "source": [
    "#### Step 1: Get the Perch model from the Biaocoustics Model Zoo"
   ]
  },
  {
   "cell_type": "code",
   "execution_count": 13,
   "metadata": {},
   "outputs": [
    {
     "name": "stderr",
     "output_type": "stream",
     "text": [
      "Using cache found in /Users/SML161/.cache/torch/hub/kitzeslab_bioacoustics-model-zoo_birdnet_train\n",
      "/Users/SML161/miniconda3/envs/tensorflow/lib/python3.9/site-packages/opensoundscape/ml/cnn.py:621: UserWarning: \n",
      "                    This architecture is not listed in opensoundscape.ml.cnn_architectures.ARCH_DICT.\n",
      "                    It will not be available for loading after saving the model with .save() (unless using pickle=True). \n",
      "                    To make it re-loadable, define a function that generates the architecture from arguments: (n_classes, n_channels) \n",
      "                    then use opensoundscape.ml.cnn_architectures.register_architecture() to register the generating function.\n",
      "\n",
      "                    The function can also set the returned object's .constructor_name to the registered string key in ARCH_DICT\n",
      "                    to avoid this warning and ensure it is reloaded correctly by opensoundscape.ml.load_model().\n",
      "\n",
      "                    See opensoundscape.ml.cnn_architectures module for examples of constructor functions\n",
      "                    \n",
      "  warnings.warn(\n",
      "/Users/SML161/miniconda3/envs/tensorflow/lib/python3.9/site-packages/opensoundscape/ml/cnn.py:645: UserWarning: Failed to detect expected # input channels of this architecture.Make sure your architecture expects the number of channels equal to `channels` argument 1). Pytorch architectures generally expect 3 channels by default.\n",
      "  warnings.warn(\n"
     ]
    }
   ],
   "source": [
    "tag = \"birdnet_train\" # the branch of the model zoo with compatible models\n",
    "perch = torch.hub.load(\n",
    "        f\"kitzeslab/bioacoustics-model-zoo:{tag}\", 'Perch', trust_repo=True, \n",
    "    )"
   ]
  },
  {
   "cell_type": "markdown",
   "metadata": {},
   "source": [
    "#### Step 2: Generate embeddings on the training and validation data"
   ]
  },
  {
   "cell_type": "code",
   "execution_count": 14,
   "metadata": {},
   "outputs": [
    {
     "data": {
      "application/vnd.jupyter.widget-view+json": {
       "model_id": "e6911ef5e7f6484abd00a24e09f649e1",
       "version_major": 2,
       "version_minor": 0
      },
      "text/plain": [
       "  0%|          | 0/12 [00:00<?, ?it/s]"
      ]
     },
     "metadata": {},
     "output_type": "display_data"
    },
    {
     "name": "stderr",
     "output_type": "stream",
     "text": [
      "2024-10-08 13:36:03.559267: I tensorflow/compiler/xla/service/service.cc:168] XLA service 0x3c3fdf300 initialized for platform Host (this does not guarantee that XLA will be used). Devices:\n",
      "2024-10-08 13:36:03.559289: I tensorflow/compiler/xla/service/service.cc:176]   StreamExecutor device (0): Host, Default Version\n",
      "2024-10-08 13:36:03.814617: I tensorflow/compiler/mlir/tensorflow/utils/dump_mlir_util.cc:269] disabling MLIR crash reproducer, set env var `MLIR_CRASH_REPRODUCER_DIRECTORY` to enable.\n",
      "2024-10-08 13:36:03.846980: W tensorflow/compiler/tf2xla/kernels/assert_op.cc:38] Ignoring Assert operator jax2tf_infer_fn_/assert_equal_1/Assert/AssertGuard/Assert\n",
      "2024-10-08 13:36:05.217674: I ./tensorflow/compiler/jit/device_compiler.h:186] Compiled cluster using XLA!  This line is logged at most once for the lifetime of the process.\n",
      "2024-10-08 13:36:05.231171: E ./tensorflow/compiler/xla/stream_executor/stream_executor_internal.h:124] SetPriority unimplemented for this stream.\n",
      "2024-10-08 13:40:35.134978: W tensorflow/compiler/tf2xla/kernels/assert_op.cc:38] Ignoring Assert operator jax2tf_infer_fn_/assert_equal_1/Assert/AssertGuard/Assert\n"
     ]
    },
    {
     "data": {
      "application/vnd.jupyter.widget-view+json": {
       "model_id": "5f08dd8d00c443b0a64213c229093aa1",
       "version_major": 2,
       "version_minor": 0
      },
      "text/plain": [
       "  0%|          | 0/4 [00:00<?, ?it/s]"
      ]
     },
     "metadata": {},
     "output_type": "display_data"
    },
    {
     "name": "stderr",
     "output_type": "stream",
     "text": [
      "2024-10-08 13:42:09.782231: W tensorflow/compiler/tf2xla/kernels/assert_op.cc:38] Ignoring Assert operator jax2tf_infer_fn_/assert_equal_1/Assert/AssertGuard/Assert\n"
     ]
    }
   ],
   "source": [
    "emb_train = perch.embed(labels_train, return_dfs=False, batch_size=128, num_workers=0)\n",
    "emb_val = perch.embed(labels_val, return_dfs=False, batch_size=128, num_workers=0)"
   ]
  },
  {
   "cell_type": "markdown",
   "metadata": {},
   "source": [
    "#### Step 3: train the classification head on the desired classes"
   ]
  },
  {
   "cell_type": "code",
   "execution_count": 15,
   "metadata": {},
   "outputs": [
    {
     "name": "stdout",
     "output_type": "stream",
     "text": [
      "Epoch 100/1000, Loss: 0.4348709285259247, Val Loss: 0.4204502999782562\n",
      "val AU ROC: 0.797\n",
      "val MAP: 0.797\n",
      "Epoch 200/1000, Loss: 0.38083168864250183, Val Loss: 0.3726308345794678\n",
      "val AU ROC: 0.812\n",
      "val MAP: 0.812\n",
      "Epoch 300/1000, Loss: 0.3522585928440094, Val Loss: 0.3506649434566498\n",
      "val AU ROC: 0.823\n",
      "val MAP: 0.823\n",
      "Epoch 400/1000, Loss: 0.3324108123779297, Val Loss: 0.33769121766090393\n",
      "val AU ROC: 0.829\n",
      "val MAP: 0.829\n",
      "Epoch 500/1000, Loss: 0.3167117238044739, Val Loss: 0.32872632145881653\n",
      "val AU ROC: 0.834\n",
      "val MAP: 0.834\n",
      "Epoch 600/1000, Loss: 0.3035616874694824, Val Loss: 0.321988046169281\n",
      "val AU ROC: 0.837\n",
      "val MAP: 0.837\n",
      "Epoch 700/1000, Loss: 0.29223692417144775, Val Loss: 0.31672316789627075\n",
      "val AU ROC: 0.840\n",
      "val MAP: 0.840\n",
      "Epoch 800/1000, Loss: 0.28230735659599304, Val Loss: 0.31254294514656067\n",
      "val AU ROC: 0.842\n",
      "val MAP: 0.842\n",
      "Epoch 900/1000, Loss: 0.27346834540367126, Val Loss: 0.30920472741127014\n",
      "val AU ROC: 0.843\n",
      "val MAP: 0.843\n",
      "Epoch 1000/1000, Loss: 0.2654900848865509, Val Loss: 0.30653616786003113\n",
      "val AU ROC: 0.844\n",
      "val MAP: 0.844\n",
      "Training complete\n"
     ]
    }
   ],
   "source": [
    "perch.change_classes(['A']) # replace fc layer with 1-output layer\n",
    "quick_fit(perch.network, emb_train, labels_train.values, emb_val, labels_val.values,steps=1000)"
   ]
  },
  {
   "cell_type": "markdown",
   "metadata": {},
   "source": [
    "#### Step 4: evaluate"
   ]
  },
  {
   "cell_type": "code",
   "execution_count": 16,
   "metadata": {},
   "outputs": [
    {
     "data": {
      "text/plain": [
       "0.9353218210361067"
      ]
     },
     "execution_count": 16,
     "metadata": {},
     "output_type": "execute_result"
    },
    {
     "data": {
      "image/png": "[encoded data removed]",
      "text/plain": [
       "<Figure size 1500x500 with 1 Axes>"
      ]
     },
     "metadata": {
      "image/png": {
       "height": 428,
       "width": 1209
      }
     },
     "output_type": "display_data"
    }
   ],
   "source": [
    "# make predictions by passing the embeddings through the classifier\n",
    "preds = perch.network(torch.tensor(emb_val).float()).detach().numpy()\n",
    "\n",
    "# plot histogram of scores for positive and negative clips\n",
    "plt.hist(preds[labels_val==True],bins=20,alpha=0.5,label='positives')\n",
    "plt.hist(preds[labels_val==False],bins=20,alpha=0.5,label='negatives')\n",
    "plt.legend()\n",
    "\n",
    "# calculate the area under the ROC score\n",
    "roc_auc_score(labels_val.values,preds,average=None)"
   ]
  },
  {
   "cell_type": "markdown",
   "metadata": {},
   "source": [
    "## Variations on training\n",
    "\n",
    "The Perch and BirdNET classes from the model zoo implement a .train() function that wraps together the embedding and classifier training shown in this tutorial. So for the least lines of code, you can simply load the model, change classes to your target classes, and run .train():\n",
    "\n",
    "```python\n",
    "from opensoundscape.ml import bioacoustics_model_zoo as bmz\n",
    "\n",
    "# load a model from the model zoo\n",
    "model = bmz.load('BirdNET')\n",
    "# or model = bmz.load('Perch')\n",
    "\n",
    "# define classes for your custom classifier\n",
    "model.change_classes(train_df.columns)\n",
    "\n",
    "# fit the trainable PyTorch classifier (`model.network`) on your labels\n",
    "model.train(train_df,validation_df,num_augmentation_variants=4)\n",
    "\n",
    "# run inference using your custom classifier\n",
    "model.predict(validation_df)\n",
    "```\n",
    "\n",
    "OpenSoundscape also provides tools to generate embeddings for augmented variations of the input samples (`opensoundscape.shallow_classifier.augmented_embed()`), which could improve the classifiers performance and generalizability. See the transfer learning tutorial for further examples of this and other workflows. \n",
    "\n",
    "Here are a few other tools from the `shallow_classifiers` module to check out:\n",
    "\n",
    "- augmented_embed(): generate embeddings for each sample multiple times, with stochastic augmentation on the audio clips\n",
    "\n",
    "- fit_classifier_on_embeddings(): this function wraps together the embedding step with the classifier fitting step into a single operation, with support for generating augmented variations of training samples. It returns the embeddings and labels, in case you want to train additional classifiers on them\n",
    "\n",
    "- MLPClassifier: this class creates a neural network with one or more fully connected layers. This object can be trained by passing it to quick_fit() or fit_classifier_on_embeddings(), or by running the .fit() method (equivalent to quick_fit()). The input size should match the embedding size of the embedding model, and the output size should match the number of classes your model predicts on. "
   ]
  }
 ],
 "metadata": {
  "kernelspec": {
   "display_name": "tensorflow",
   "language": "python",
   "name": "python3"
  },
  "language_info": {
   "codemirror_mode": {
    "name": "ipython",
    "version": 3
   },
   "file_extension": ".py",
   "mimetype": "text/x-python",
   "name": "python",
   "nbconvert_exporter": "python",
   "pygments_lexer": "ipython3",
   "version": "3.9.17"
  }
 },
 "nbformat": 4,
 "nbformat_minor": 2
}
